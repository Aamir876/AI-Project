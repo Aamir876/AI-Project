{
 "cells": [
  {
   "cell_type": "markdown",
   "metadata": {},
   "source": [
    "###Yahoo Finance \n",
    "Tutorial on how to get current/historical prices from yahoo finance using yahoo_finace"
   ]
  },
  {
   "cell_type": "markdown",
   "metadata": {},
   "source": [
    "Import yahoo finance and other necessary packages"
   ]
  },
  {
   "cell_type": "code",
   "execution_count": 14,
   "metadata": {
    "collapsed": true
   },
   "outputs": [],
   "source": [
    "from yahoo_finance import Share\n",
    "import numpy as np\n"
   ]
  },
  {
   "cell_type": "markdown",
   "metadata": {},
   "source": [
    "First we need to create an instance of Share. Using that instance we will get prices, volumes, ratios and all other company information"
   ]
  },
  {
   "cell_type": "code",
   "execution_count": 15,
   "metadata": {
    "collapsed": true
   },
   "outputs": [],
   "source": [
    "#for this Example I will use google's finances\n",
    "\n",
    "#create an instance of Share\n",
    "google = Share('GOOG')"
   ]
  },
  {
   "cell_type": "markdown",
   "metadata": {},
   "source": [
    "Price Information"
   ]
  },
  {
   "cell_type": "code",
   "execution_count": 20,
   "metadata": {
    "collapsed": false
   },
   "outputs": [
    {
     "name": "stdout",
     "output_type": "stream",
     "text": [
      "trading date:  2015-09-02 20:00:00 UTC+0000\n",
      "opening price: $ 605.68\n",
      "day high: $ 614.34\n",
      "day low: $ 599.71\n",
      "print price change: $ +16.55\n",
      "\n",
      "########## After refreshing ####################\n",
      "trading date:  2015-09-02 20:00:00 UTC+0000\n",
      "opening price: $ 605.68\n",
      "print price change: $ +16.55\n"
     ]
    }
   ],
   "source": [
    "#now that an instance of Share is created (google), we will call its functions to get the prices\n",
    "\n",
    "#date and time of the trade\n",
    "date = google.get_trade_datetime()\n",
    "\n",
    "#opening price\n",
    "opening_price = google.get_open()\n",
    "\n",
    "#Price right now (Yahoo finance is delayed by 15 mins)\n",
    "current_price = google.get_price()\n",
    "\n",
    "#Day's high and low prices \n",
    "day_high = google.get_days_high()\n",
    "day_low = google.get_days_low()\n",
    "\n",
    "#price changes from opening price\n",
    "price_change = google.get_change()\n",
    "\n",
    "print \"trading date: \", date\n",
    "print \"opening price: $\" , opening_price\n",
    "print \"day high: $\", day_high\n",
    "print \"day low: $\", day_low\n",
    "print \"print price change: $\", price_change\n",
    "#Refresh to get a new price\n",
    "# Note that after the market closes @ 4PM EST, the price will stay the same\n",
    "google.refresh()\n",
    "\n",
    "date = google.get_trade_datetime()\n",
    "current_price = google.get_price()\n",
    "price_change = google.get_change()\n",
    "\n",
    "print \"\\n########## After refreshing ####################\"\n",
    "print \"trading date: \", date\n",
    "print \"opening price: $\" , opening_price\n",
    "print \"print price change: $\", price_change"
   ]
  },
  {
   "cell_type": "markdown",
   "metadata": {},
   "source": [
    "Moving averages. Get a peek of what prices have been like in the past. \n"
   ]
  },
  {
   "cell_type": "code",
   "execution_count": 21,
   "metadata": {
    "collapsed": false
   },
   "outputs": [
    {
     "name": "stdout",
     "output_type": "stream",
     "text": [
      "200 days moving average: $ 564.60\n",
      "50 days moving average: $ 633.32\n"
     ]
    }
   ],
   "source": [
    "#If current prices are higher than 50 or 200 days moving average, that means prices are going up\n",
    "\n",
    "#200 days moving average\n",
    "th_moving_avg = google.get_200day_moving_avg()\n",
    "\n",
    "#50 days moving average\n",
    "fifty_moving_avg = google.get_50day_moving_avg()\n",
    "\n",
    "print \"200 days moving average: $\", th_moving_avg\n",
    "print \"50 days moving average: $\", fifty_moving_avg"
   ]
  },
  {
   "cell_type": "markdown",
   "metadata": {},
   "source": [
    "Volume Information"
   ]
  },
  {
   "cell_type": "code",
   "execution_count": 23,
   "metadata": {
    "collapsed": false
   },
   "outputs": [
    {
     "name": "stdout",
     "output_type": "stream",
     "text": [
      "Today's volume:  2575620\n",
      "Average volume:  2365900\n"
     ]
    }
   ],
   "source": [
    "#Volume speaks (If more people are trading, there's gotta be something good or bad happening)\n",
    "\n",
    "volume = google.get_volume()\n",
    "#compare this days volume with average volume\n",
    "average_daily_volume = google.get_avg_daily_volume()\n",
    "\n",
    "print \"Today's volume: \", volume\n",
    "print \"Average volume: \", average_daily_volume"
   ]
  },
  {
   "cell_type": "markdown",
   "metadata": {},
   "source": [
    "Ratios are important for technical analysis. Price to Earning ratio is the most important of them all. Value investors like Warren Buffet use this to their analysis."
   ]
  },
  {
   "cell_type": "code",
   "execution_count": 25,
   "metadata": {
    "collapsed": false
   },
   "outputs": [
    {
     "name": "stdout",
     "output_type": "stream",
     "text": [
      "Price to earning (PE) ratio :  28.95\n",
      "Price earning to growth (PEG) ratio:  1.13\n"
     ]
    }
   ],
   "source": [
    "#PE ratio ---> price per share divided by earnings per share\n",
    "#Lower PE the better \n",
    "PE = google.get_price_earnings_ratio()\n",
    "\n",
    "#PEG ratio ---> pe ratio divided by 1-reinvestment (growth)\n",
    "PEG = google.get_price_earnings_growth_ratio()\n",
    "\n",
    "print \"Price to earning (PE) ratio : \", PE\n",
    "print \"Price earning to growth (PEG) ratio: \", PEG"
   ]
  },
  {
   "cell_type": "markdown",
   "metadata": {},
   "source": [
    "Book Value"
   ]
  },
  {
   "cell_type": "code",
   "execution_count": 27,
   "metadata": {
    "collapsed": false
   },
   "outputs": [
    {
     "name": "stdout",
     "output_type": "stream",
     "text": [
      "book value 163.07\n"
     ]
    }
   ],
   "source": [
    "#book value -> what the numbers say this company is worth\n",
    "print \"book value\",  google.get_book_value()"
   ]
  },
  {
   "cell_type": "markdown",
   "metadata": {},
   "source": [
    "Dividends: how is the company paying its investors"
   ]
  },
  {
   "cell_type": "code",
   "execution_count": 35,
   "metadata": {
    "collapsed": false
   },
   "outputs": [
    {
     "name": "stdout",
     "output_type": "stream",
     "text": [
      "dividend per share: $ None\n",
      "divident yield:  None\n"
     ]
    }
   ],
   "source": [
    "div_per_share = google.get_dividend_share()\n",
    "div_yield = google.get_dividend_yield()\n",
    "\n",
    "#for some reason Google's dividend information was not available\n",
    "print \"dividend per share: $\", div_per_share\n",
    "print \"divident yield: \", div_yield"
   ]
  },
  {
   "cell_type": "markdown",
   "metadata": {},
   "source": [
    "Historical Prices\n"
   ]
  },
  {
   "cell_type": "code",
   "execution_count": 43,
   "metadata": {
    "collapsed": false
   },
   "outputs": [
    {
     "name": "stdout",
     "output_type": "stream",
     "text": [
      "First day: \n",
      "{'Volume': '3680200', 'Symbol': 'GOOG', 'Adj_Close': '597.789978', 'High': '612.859985', 'Low': '594.099976', 'Date': '2015-09-01', 'Close': '597.789978', 'Open': '602.359985'}\n",
      "last day: \n",
      "{'Volume': '2161200', 'Symbol': 'GOOG', 'Adj_Close': '618.25', 'High': '635.799988', 'Low': '617.679993', 'Date': '2015-08-31', 'Close': '618.25', 'Open': '627.539978'}\n"
     ]
    }
   ],
   "source": [
    "historical = google.get_historical('2015-08-29', '2015-09-01')\n",
    "print \"First day: \\n\", historical[0]\n",
    "print \"last day: \\n\", historical[-1]"
   ]
  },
  {
   "cell_type": "markdown",
   "metadata": {},
   "source": [
    "More on historical prices coming soon"
   ]
  }
 ],
 "metadata": {
  "kernelspec": {
   "display_name": "Python 2",
   "language": "python",
   "name": "python2"
  },
  "language_info": {
   "codemirror_mode": {
    "name": "ipython",
    "version": 2
   },
   "file_extension": ".py",
   "mimetype": "text/x-python",
   "name": "python",
   "nbconvert_exporter": "python",
   "pygments_lexer": "ipython2",
   "version": "2.7.10"
  }
 },
 "nbformat": 4,
 "nbformat_minor": 0
}
