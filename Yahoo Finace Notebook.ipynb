{
 "cells": [
  {
   "cell_type": "markdown",
   "metadata": {},
   "source": [
    "###Yahoo Finance \n",
    "Tutorial on how to get current/historical prices from yahoo finance using yahoo_finace"
   ]
  },
  {
   "cell_type": "markdown",
   "metadata": {},
   "source": [
    "Import yahoo finance and other necessary packages"
   ]
  },
  {
   "cell_type": "code",
   "execution_count": 54,
   "metadata": {
    "collapsed": true
   },
   "outputs": [],
   "source": [
    "from yahoo_finance import Share\n",
    "import numpy as np\n"
   ]
  },
  {
   "cell_type": "markdown",
   "metadata": {},
   "source": [
    "First we need to create an instance of Share. Using that instance we will get prices, volumes, ratios and all other company information"
   ]
  },
  {
   "cell_type": "code",
   "execution_count": 55,
   "metadata": {
    "collapsed": true
   },
   "outputs": [],
   "source": [
    "#for this Example I will use google's finances\n",
    "\n",
    "#create an instance of Share\n",
    "google = Share('GOOG')"
   ]
  },
  {
   "cell_type": "markdown",
   "metadata": {},
   "source": [
    "Price Information"
   ]
  },
  {
   "cell_type": "code",
   "execution_count": 56,
   "metadata": {
    "collapsed": false
   },
   "outputs": [
    {
     "name": "stdout",
     "output_type": "stream",
     "text": [
      "trading date:  2015-09-08 20:00:00 UTC+0000\n",
      "current price:  614.66\n",
      "opening price: $ 612.99\n",
      "day high: $ 616.31\n",
      "day low: $ 604.12\n",
      "print price change: $ +13.96\n",
      "\n",
      "########## After refreshing ####################\n",
      "trading date:  2015-09-08 20:00:00 UTC+0000\n",
      "current price:  614.66\n",
      "opening price: $ 612.99\n",
      "print price change: $ +13.96\n"
     ]
    }
   ],
   "source": [
    "#now that an instance of Share is created (google), we will call its functions to get the prices\n",
    "\n",
    "#date and time of the trade\n",
    "date = google.get_trade_datetime()\n",
    "\n",
    "#opening price\n",
    "opening_price = google.get_open()\n",
    "\n",
    "#Price right now (Yahoo finance is delayed by 15 mins)\n",
    "current_price = google.get_price()\n",
    "\n",
    "#Day's high and low prices \n",
    "day_high = google.get_days_high()\n",
    "day_low = google.get_days_low()\n",
    "\n",
    "#price changes from opening price\n",
    "price_change = google.get_change()\n",
    "\n",
    "print \"trading date: \", date\n",
    "print \"current price: \", current_price\n",
    "print \"opening price: $\" , opening_price\n",
    "print \"day high: $\", day_high\n",
    "print \"day low: $\", day_low\n",
    "print \"print price change: $\", price_change\n",
    "#Refresh to get a new price\n",
    "# Note that after the market closes @ 4PM EST, the price will stay the same\n",
    "google.refresh()\n",
    "\n",
    "date = google.get_trade_datetime()\n",
    "current_price = google.get_price()\n",
    "price_change = google.get_change()\n",
    "\n",
    "print \"\\n########## After refreshing ####################\"\n",
    "print \"trading date: \", date\n",
    "print \"current price: \", current_price\n",
    "print \"opening price: $\" , opening_price\n",
    "print \"print price change: $\", price_change"
   ]
  },
  {
   "cell_type": "markdown",
   "metadata": {},
   "source": [
    "Moving averages. Get a peek of what prices have been like in the past. \n"
   ]
  },
  {
   "cell_type": "code",
   "execution_count": 57,
   "metadata": {
    "collapsed": false
   },
   "outputs": [
    {
     "name": "stdout",
     "output_type": "stream",
     "text": [
      "200 days moving average: $ 566.25\n",
      "50 days moving average: $ 632.71\n"
     ]
    }
   ],
   "source": [
    "#If current prices are higher than 50 or 200 days moving average, that means prices are going up\n",
    "\n",
    "#200 days moving average\n",
    "th_moving_avg = google.get_200day_moving_avg()\n",
    "\n",
    "#50 days moving average\n",
    "fifty_moving_avg = google.get_50day_moving_avg()\n",
    "\n",
    "print \"200 days moving average: $\", th_moving_avg\n",
    "print \"50 days moving average: $\", fifty_moving_avg"
   ]
  },
  {
   "cell_type": "markdown",
   "metadata": {},
   "source": [
    "Volume Information"
   ]
  },
  {
   "cell_type": "code",
   "execution_count": 58,
   "metadata": {
    "collapsed": false
   },
   "outputs": [
    {
     "name": "stdout",
     "output_type": "stream",
     "text": [
      "Today's volume:  2279538\n",
      "Average volume:  2405180\n"
     ]
    }
   ],
   "source": [
    "#Volume speaks (If more people are trading, there's gotta be something good or bad happening)\n",
    "\n",
    "volume = google.get_volume()\n",
    "#compare this days volume with average volume\n",
    "average_daily_volume = google.get_avg_daily_volume()\n",
    "\n",
    "print \"Today's volume: \", volume\n",
    "print \"Average volume: \", average_daily_volume"
   ]
  },
  {
   "cell_type": "markdown",
   "metadata": {},
   "source": [
    "Ratios are important for technical analysis. Price to Earning ratio is the most important of them all. Value investors like Warren Buffet use this to their analysis."
   ]
  },
  {
   "cell_type": "code",
   "execution_count": 59,
   "metadata": {
    "collapsed": false
   },
   "outputs": [
    {
     "name": "stdout",
     "output_type": "stream",
     "text": [
      "Price to earning (PE) ratio :  28.96\n",
      "Price earning to growth (PEG) ratio:  1.14\n"
     ]
    }
   ],
   "source": [
    "#PE ratio ---> price per share divided by earnings per share\n",
    "#Lower PE the better \n",
    "PE = google.get_price_earnings_ratio()\n",
    "\n",
    "#PEG ratio ---> pe ratio divided by 1-reinvestment (growth)\n",
    "PEG = google.get_price_earnings_growth_ratio()\n",
    "\n",
    "print \"Price to earning (PE) ratio : \", PE\n",
    "print \"Price earning to growth (PEG) ratio: \", PEG"
   ]
  },
  {
   "cell_type": "markdown",
   "metadata": {},
   "source": [
    "Book Value"
   ]
  },
  {
   "cell_type": "code",
   "execution_count": 60,
   "metadata": {
    "collapsed": false
   },
   "outputs": [
    {
     "name": "stdout",
     "output_type": "stream",
     "text": [
      "book value 163.07\n"
     ]
    }
   ],
   "source": [
    "#book value -> what the numbers say this company is worth\n",
    "print \"book value\",  google.get_book_value()"
   ]
  },
  {
   "cell_type": "markdown",
   "metadata": {},
   "source": [
    "Dividends: how is the company paying its investors"
   ]
  },
  {
   "cell_type": "code",
   "execution_count": 61,
   "metadata": {
    "collapsed": false
   },
   "outputs": [
    {
     "name": "stdout",
     "output_type": "stream",
     "text": [
      "dividend per share: $ None\n",
      "divident yield:  None\n"
     ]
    }
   ],
   "source": [
    "div_per_share = google.get_dividend_share()\n",
    "div_yield = google.get_dividend_yield()\n",
    "\n",
    "#for some reason Google's dividend information was not available\n",
    "print \"dividend per share: $\", div_per_share\n",
    "print \"divident yield: \", div_yield"
   ]
  },
  {
   "cell_type": "markdown",
   "metadata": {},
   "source": [
    "Historical Prices\n",
    "\n",
    "*Data not available for Saturday/Sunday\n"
   ]
  },
  {
   "cell_type": "code",
   "execution_count": 62,
   "metadata": {
    "collapsed": false
   },
   "outputs": [
    {
     "name": "stdout",
     "output_type": "stream",
     "text": [
      "First day: \n",
      "{'Volume': '2270800', 'Symbol': 'GOOG', 'Adj_Close': '614.659973', 'High': '616.309998', 'Low': '604.119995', 'Date': '2015-09-08', 'Close': '614.659973', 'Open': '612.48999'}\n",
      "last day: \n",
      "{'Volume': '1704300', 'Symbol': 'GOOG', 'Adj_Close': '628.00', 'High': '632.830017', 'Low': '623.309998', 'Date': '2015-07-28', 'Close': '628.00', 'Open': '632.830017'}\n"
     ]
    }
   ],
   "source": [
    "historical = google.get_historical('2015-07-28', '2015-09-08')\n",
    "print \"First day: \\n\", historical[0]\n",
    "print \"last day: \\n\", historical[-1]"
   ]
  },
  {
   "cell_type": "code",
   "execution_count": 63,
   "metadata": {
    "collapsed": false
   },
   "outputs": [
    {
     "name": "stdout",
     "output_type": "stream",
     "text": [
      "30\n",
      "614.659973\n",
      "612.48999\n"
     ]
    }
   ],
   "source": [
    "print len(historical)\n",
    "#To get the closing price for first day\n",
    "print historical[0]['Close']\n",
    "\n",
    "#opening price for first day\n",
    "print historical[0]['Open']\n"
   ]
  },
  {
   "cell_type": "markdown",
   "metadata": {},
   "source": [
    "More on historical prices coming soon"
   ]
  },
  {
   "cell_type": "code",
   "execution_count": 65,
   "metadata": {
    "collapsed": false
   },
   "outputs": [],
   "source": [
    "#to get all opening prices together\n",
    "\n",
    "opening = [] #is a dynamic array (list) for python\n",
    "\n",
    "for i in range(len(historical)):\n",
    "    x = historical[i]['Open']\n",
    "    opening.append(x)\n",
    "\n",
    "closing = [] #is a dynamic array (list) for python\n",
    "\n",
    "for i in range(len(historical)):\n",
    "    x = historical[i]['Close']\n",
    "    closing.append(x)\n",
    "\n",
    "x_axis = np.arange(0+1, len(historical)+1)\n"
   ]
  },
  {
   "cell_type": "code",
   "execution_count": 1,
   "metadata": {
    "collapsed": false
   },
   "outputs": [],
   "source": [
    "#print opening\n",
    "#print closing\n",
    "#print x_axis"
   ]
  },
  {
   "cell_type": "code",
   "execution_count": 67,
   "metadata": {
    "collapsed": false
   },
   "outputs": [
    {
     "data": {
      "image/png": "[encoded data removed]",
      "text/plain": [
       "<matplotlib.figure.Figure at 0x7f5909076410>"
      ]
     },
     "metadata": {},
     "output_type": "display_data"
    }
   ],
   "source": [
    "import matplotlib.pyplot as plt\n",
    "%matplotlib inline\n",
    "\n",
    "plt.plot(x_axis,opening, 'b', x_axis, closing, 'r')\n",
    "plt.xlabel('Day')\n",
    "plt.ylabel('Price ($)')\n",
    "plt.show()\n",
    "\n"
   ]
  },
  {
   "cell_type": "code",
   "execution_count": 28,
   "metadata": {
    "collapsed": true
   },
   "outputs": [],
   "source": []
  },
  {
   "cell_type": "code",
   "execution_count": null,
   "metadata": {
    "collapsed": true
   },
   "outputs": [],
   "source": []
  }
 ],
 "metadata": {
  "kernelspec": {
   "display_name": "Python 2",
   "language": "python",
   "name": "python2"
  },
  "language_info": {
   "codemirror_mode": {
    "name": "ipython",
    "version": 2
   },
   "file_extension": ".py",
   "mimetype": "text/x-python",
   "name": "python",
   "nbconvert_exporter": "python",
   "pygments_lexer": "ipython2",
   "version": "2.7.10"
  }
 },
 "nbformat": 4,
 "nbformat_minor": 0
}
