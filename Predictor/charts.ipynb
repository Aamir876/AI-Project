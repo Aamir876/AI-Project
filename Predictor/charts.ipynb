{
 "cells": [
  {
   "cell_type": "code",
   "execution_count": 1,
   "metadata": {
    "collapsed": true
   },
   "outputs": [],
   "source": [
    "from yahoo_finance import Share\n",
    "from matplotlib import pyplot as plt\n",
    "import numpy as np\n",
    "import get_historical as gh\n",
    "from datetime import date as dt\n",
    "from datetime import timedelta\n",
    "import normalize as scale\n",
    "import trading_day as td"
   ]
  },
  {
   "cell_type": "code",
   "execution_count": 2,
   "metadata": {
    "collapsed": false
   },
   "outputs": [
    {
     "name": "stdout",
     "output_type": "stream",
     "text": [
      "Enter company ticker: KO\n",
      "Enter number of days: 30\n",
      "21\n"
     ]
    }
   ],
   "source": [
    "def get_dates(num_days):\n",
    "\n",
    "    today = dt.today()\n",
    "    yesturday = today - timedelta(days =1)\n",
    "\n",
    "    date2 = today- timedelta(days = num_days)\n",
    "    yest = yesturday.isoformat()\n",
    "    date2 = date2.isoformat()\n",
    "\n",
    "    return date2, yest\n",
    "\n",
    "ticker = raw_input(\"Enter company ticker: \")\n",
    "num_days = int(input(\"Enter number of days: \"))\n",
    "\n",
    "company = Share(ticker)\n",
    "\n",
    "day1, day2 = get_dates(num_days)\n",
    "\n",
    "historical = company.get_historical(day1, day2)\n",
    "\n",
    "historical.reverse()\n",
    "\n",
    "print len(historical)"
   ]
  },
  {
   "cell_type": "markdown",
   "metadata": {},
   "source": [
    "Get training Data\n"
   ]
  },
  {
   "cell_type": "code",
   "execution_count": 3,
   "metadata": {
    "collapsed": false
   },
   "outputs": [],
   "source": [
    "opening = gh.get_unscaled_opening(historical)\n",
    "scaler = scale.get_scaler(opening)\n",
    "\n",
    "_opening, scaled_opening = gh.get_historical_opening(historical, scaler)\n",
    "\n",
    "closing, scaled_closing = gh.get_historical_closing(historical, scaler)\n",
    "\n",
    "high, scaled_high = gh.get_historical_high(historical, scaler)\n",
    "\n",
    "low, scaled_low = gh.get_historical_low(historical, scaler)\n",
    "\n",
    "change, scaled_change = gh.get_change(historical, scaler)\n",
    "\n",
    "volume, avg_vol, scaled_volume, scaled_avg_vol = gh.get_historical_volume(historical, company, scaler)\n",
    "\n",
    "average_volume = avg_vol[0]"
   ]
  },
  {
   "cell_type": "code",
   "execution_count": null,
   "metadata": {
    "collapsed": false
   },
   "outputs": [],
   "source": []
  },
  {
   "cell_type": "code",
   "execution_count": 4,
   "metadata": {
    "collapsed": true
   },
   "outputs": [],
   "source": [
    "from sklearn import svm\n",
    "\n"
   ]
  },
  {
   "cell_type": "markdown",
   "metadata": {},
   "source": [
    "## Using default features\n",
    "Features include opening price, daily high and daily low"
   ]
  },
  {
   "cell_type": "code",
   "execution_count": 5,
   "metadata": {
    "collapsed": true
   },
   "outputs": [],
   "source": [
    "bt = 10\n",
    "def predictions(clf):\n",
    "    predict = []\n",
    "    full = []\n",
    " \n",
    "    for i in range(bt):        \n",
    "        index = bt-i\n",
    "        array = []\n",
    "        _this_day = get_back_trading_day(historical, index, scaler)\n",
    "        #print len(scaled_training[:-index])\n",
    "        #print len(scaled_training[i:len(scaled_training)-index])\n",
    "        _predict = clf.fit(scaled_training[i:len(scaled_training)-index], scaled_target[i:len(scaled_target)-index]).predict(_this_day)\n",
    "\n",
    "        pre = scaler.inverse_transform(_predict)\n",
    "        array.append(pre[0])\n",
    "        Date = historical[-index]['Date']\n",
    "        array.append(Date)\n",
    "        Open = float(historical[-index][\"Open\"])\n",
    "        array.append(Open)\n",
    "        Close = float(historical[-index][\"Adj_Close\"])\n",
    "        array.append(Close)\n",
    "        #array = np.array((pre[0], Date, Open, Close))\n",
    "        predict.append(pre)\n",
    "        full.append(array)\n",
    "    return predict, full\n",
    "\n",
    "def get_back_trading_day(historical, index, scaler):\n",
    "    op = float(historical[-index][\"Open\"])\n",
    "    h = float(historical[-index]['High'])\n",
    "    l = float(historical[-index]['Low'])\n",
    "    ch = h-l\n",
    "    ths = np.array((op, h, l))\n",
    "    \n",
    "    sc_ths = scale.scale(ths, scaler)\n",
    "    #print index, \". \", historical[-index]['Date']\n",
    "    return sc_ths\n",
    "\n",
    "def plot(predict, clf):\n",
    "    x_axis = np.arange(0+1, len(historical)+1)\n",
    "    plt.plot(x_axis[:bt], closing[-bt:], label='Actual Closing')\n",
    "    plt.plot(x_axis[:bt], predict, label='Predicted Closing')\n",
    "    plt.plot(x_axis[:bt], opening[-bt:], label='Opening')\n",
    "    plt.xlabel(\"Day\")\n",
    "    plt.ylabel(\"Price ($)\")\n",
    "    plt.legend(loc='best')\n",
    "    plt.title(\"The Coca Cola Co. (KO)\\n Features: Default   Kernel: \" + clf.kernel)\n",
    "    #plt.text(0, 0, \"C=0.1, gamma=0.001, kernel = linear\")\n",
    "    plt.show()\n",
    "    \n",
    "def print_correct(full):\n",
    "    correct = 0\n",
    "    for i in range(len(full)):\n",
    "        if (((full[i][3]-full[i][2]) > 0) and ((full[i][0]-full[i][2])>0)) or (((full[i][3]-full[i][2]) < 0) and ((full[i][0]-full[i][2]) <0)):\n",
    "            correct = correct+1\n",
    "            #print \"Correct at\", i        \n",
    "\n",
    "    print correct"
   ]
  },
  {
   "cell_type": "markdown",
   "metadata": {},
   "source": [
    "Getting training data"
   ]
  },
  {
   "cell_type": "code",
   "execution_count": 6,
   "metadata": {
    "collapsed": false
   },
   "outputs": [],
   "source": [
    "training, target, scaled_training, scaled_target = gh.training_data(historical, company, scaler, False, False)\n",
    "this_day, scaled_today = td.get_trading_day(company, scaler, False, False)\n"
   ]
  },
  {
   "cell_type": "markdown",
   "metadata": {},
   "source": [
    "Using linear Kernel"
   ]
  },
  {
   "cell_type": "code",
   "execution_count": 8,
   "metadata": {
    "collapsed": false
   },
   "outputs": [
    {
     "name": "stdout",
     "output_type": "stream",
     "text": [
      "4\n"
     ]
    }
   ],
   "source": [
    "clf1 = svm.SVR(gamma=0.001,C=1e3, kernel='linear')\n",
    "#print historical[-10][\"Date\"]\n",
    "\n",
    "predict1, full1 = predictions(clf1)\n",
    "\n",
    "plot(predict1, clf1)\n",
    "\n",
    "print_correct(full1)"
   ]
  },
  {
   "cell_type": "markdown",
   "metadata": {
    "collapsed": true
   },
   "source": [
    "Using non-linear (RBF) Kernel"
   ]
  },
  {
   "cell_type": "code",
   "execution_count": 9,
   "metadata": {
    "collapsed": false
   },
   "outputs": [
    {
     "name": "stdout",
     "output_type": "stream",
     "text": [
      "4\n"
     ]
    }
   ],
   "source": [
    "clf2 = svm.SVR(gamma=0.001,C=1e3, kernel='rbf')\n",
    "#print historical[-10][\"Date\"]\n",
    "\n",
    "predict2, full2 = predictions(clf2)\n",
    "\n",
    "plot(predict2, clf2)\n",
    "\n",
    "print_correct(full2)"
   ]
  },
  {
   "cell_type": "code",
   "execution_count": null,
   "metadata": {
    "collapsed": true
   },
   "outputs": [],
   "source": []
  },
  {
   "cell_type": "markdown",
   "metadata": {},
   "source": [
    "## Using Volumes"
   ]
  },
  {
   "cell_type": "code",
   "execution_count": 9,
   "metadata": {
    "collapsed": true
   },
   "outputs": [],
   "source": [
    "training, target, scaled_training, scaled_target = gh.training_data(historical, company, scaler, False, True)\n",
    "this_day, scaled_today = td.get_trading_day(company, scaler, False, True)"
   ]
  },
  {
   "cell_type": "code",
   "execution_count": 10,
   "metadata": {
    "collapsed": true
   },
   "outputs": [],
   "source": [
    "def get_back_trading_day(historical, index, scaler):\n",
    "    op = float(historical[-index][\"Open\"])\n",
    "    h = float(historical[-index]['High'])\n",
    "    l = float(historical[-index]['Low'])\n",
    "    v = float(historical[-index]['Volume'])\n",
    "    ch = h-l\n",
    "    ths = np.array((op, h, l, v))\n",
    "    \n",
    "    sc_ths = scale.scale(ths, scaler)\n",
    "    #print index, \". \", historical[-index]['Date']\n",
    "    return sc_ths"
   ]
  },
  {
   "cell_type": "code",
   "execution_count": null,
   "metadata": {
    "collapsed": false
   },
   "outputs": [],
   "source": [
    "bt = 10\n",
    "clf = svm.SVR(gamma=0.001,C=0.01, kernel='linear')\n",
    "print clf\n",
    "#print historical[-10][\"Date\"]\n",
    "predict = []\n",
    "full = []\n",
    "for i in range(bt):\n",
    "    index = bt-i\n",
    "    array = []\n",
    "    _this_day = get_back_trading_day(historical, index, scaler)\n",
    "    #print len(scaled_training[:-index])\n",
    "    #print len(scaled_training[i:len(scaled_training)-index])\n",
    "    _predict = clf.fit(scaled_training[i:len(scaled_training)-index], scaled_target[i:len(scaled_target)-index]).predict(_this_day)\n",
    "    \n",
    "    pre = scaler.inverse_transform(_predict)\n",
    "    array.append(pre[0])\n",
    "    Date = historical[-index]['Date']\n",
    "    array.append(Date)\n",
    "    Open = float(historical[-index][\"Open\"])\n",
    "    array.append(Open)\n",
    "    Close = float(historical[-index][\"Adj_Close\"])\n",
    "    array.append(Close)\n",
    "    #array = np.array((pre[0], Date, Open, Close))\n",
    "    predict.append(pre)\n",
    "    full.append(array)\n",
    "#print predict, full"
   ]
  },
  {
   "cell_type": "code",
   "execution_count": null,
   "metadata": {
    "collapsed": true
   },
   "outputs": [],
   "source": [
    "plt.plot(x_axis[:bt], closing[-bt:], label='Actual Closing')\n",
    "plt.plot(x_axis[:bt], predict, label='Predicted Closing')\n",
    "plt.plot(x_axis[:bt], opening[-bt:], label='Opening')\n",
    "plt.xlabel(\"Day\")\n",
    "plt.ylabel(\"Price ($)\")\n",
    "plt.legend(loc='best')\n",
    "plt.title(\"The Coca Cola Co. (KO)\\n Default Features\")\n",
    "#plt.text(0, 0, \"C=0.1, gamma=0.001, kernel = linear\")\n",
    "plt.show()"
   ]
  },
  {
   "cell_type": "code",
   "execution_count": null,
   "metadata": {
    "collapsed": true
   },
   "outputs": [],
   "source": []
  },
  {
   "cell_type": "code",
   "execution_count": null,
   "metadata": {
    "collapsed": true
   },
   "outputs": [],
   "source": []
  },
  {
   "cell_type": "code",
   "execution_count": null,
   "metadata": {
    "collapsed": true
   },
   "outputs": [],
   "source": []
  },
  {
   "cell_type": "code",
   "execution_count": null,
   "metadata": {
    "collapsed": false
   },
   "outputs": [],
   "source": []
  },
  {
   "cell_type": "markdown",
   "metadata": {},
   "source": [
    "Regression\n",
    "      "
   ]
  },
  {
   "cell_type": "code",
   "execution_count": 29,
   "metadata": {
    "collapsed": false
   },
   "outputs": [],
   "source": [
    "clf = svm.SVR(gamma=0.1,C=10000,kernel='rbf')\n",
    "              \n",
    "fit = clf.fit(scaled_training, scaled_target)\n",
    "\n",
    "predict = fit.predict(scaled_training)\n",
    "              \n",
    "predict = scaler.inverse_transform(predict)\n",
    "\n",
    "x_axis = np.arange(0+1, len(historical)+1)\n",
    "\n",
    "plt.scatter(x_axis, opening, c='g', label='Opening')\n",
    "plt.scatter(x_axis, closing, c='r', label='Closing')\n",
    "plt.scatter(x_axis, high, c='b', label='High')\n",
    "plt.scatter(x_axis, low, c='y', label='Low')\n",
    "plt.legend(loc='best')\n",
    "plt.xlabel('Days')\n",
    "plt.xlim(0, )\n",
    "plt.ylabel('Price ($)')\n",
    "plt.title(\"Regression for stock price data\")\n",
    "plt.plot(x_axis, predict, c ='b', label = 'Predicted Closing')\n",
    "plt.show()"
   ]
  }
 ],
 "metadata": {
  "kernelspec": {
   "display_name": "Python 2",
   "language": "python",
   "name": "python2"
  },
  "language_info": {
   "codemirror_mode": {
    "name": "ipython",
    "version": 2
   },
   "file_extension": ".py",
   "mimetype": "text/x-python",
   "name": "python",
   "nbconvert_exporter": "python",
   "pygments_lexer": "ipython2",
   "version": "2.7.10"
  }
 },
 "nbformat": 4,
 "nbformat_minor": 0
}
