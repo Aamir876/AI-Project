{
 "cells": [
  {
   "cell_type": "code",
   "execution_count": 1,
   "metadata": {
    "collapsed": true
   },
   "outputs": [],
   "source": [
    "def get_symbol():\n",
    "    company_ticker = raw_input(\"enter the company ticker symbol: \")\n",
    "    company_ticker = company_ticker.upper()\n",
    "    return company_ticker\n",
    "\n",
    "def get_data():\n",
    "    \n",
    "    #date and time of the trade\n",
    "    date = company.get_trade_datetime()\n",
    "\n",
    "    #opening price\n",
    "    opening_price = company.get_open()\n",
    "\n",
    "    #Price right now (Yahoo finance is delayed by 15 mins????)\n",
    "    current_price = company.get_price()\n",
    "\n",
    "    #Day's high and low prices \n",
    "    day_high = company.get_days_high()\n",
    "    day_low = company.get_days_low()\n",
    "    \n",
    "    #price changes from opening price\n",
    "    price_change = company.get_change()\n",
    "    \n",
    "    \n",
    "    #200 days moving average\n",
    "    th_moving_avg = company.get_200day_moving_avg()\n",
    "    #50 days moving average\n",
    "    fifty_moving_avg = company.get_50day_moving_avg()\n",
    "    \n",
    "    #volume\n",
    "    volume = company.get_volume()\n",
    "    #compare this days volume with average volume\n",
    "    average_daily_volume = company.get_avg_daily_volume()\n",
    "\n",
    "    #PE ratio\n",
    "    PE = company.get_price_earnings_ratio()\n",
    "\n",
    "    #PEG ratio ---> pe ratio divided by 1-reinvestment (growth)\n",
    "    PEG = company.get_price_earnings_growth_ratio()\n",
    "    \n",
    "    #book value\n",
    "    book_value = company.get_book_value()\n",
    "\n",
    "    print \"trading date: \", date\n",
    "    print \"\\ncurrent price: $\", current_price\n",
    "    print \"opening price: $\" , opening_price\n",
    "    print \"\\nday high: $\", day_high\n",
    "    print \"day low: $\", day_low\n",
    "    print \"\\nprint price change: $\", price_change\n",
    "    print \"\\n200 days moving average: $\", th_moving_avg\n",
    "    print \"50 days moving average: $\", fifty_moving_avg\n",
    "    print \"\\nToday's volume: \", volume\n",
    "    print \"Average volume: \", average_daily_volume\n",
    "    print \"\\nPrice to earning (PE) ratio : \", PE\n",
    "    print \"Price earning to growth (PEG) ratio: \", PEG\n",
    "    print \"\\nbook value\",  book_value\n",
    "    '''\n",
    "    if you refresh after market closes, you will get error\n",
    "    #Refresh to get a new price\n",
    "    # Note that after the market closes @ 4PM EST, the price will stay the same\n",
    "    company.refresh()\n",
    "\n",
    "    date = company.get_trade_datetime()\n",
    "    current_price = company.get_price()\n",
    "    price_change = company.get_change()\n",
    "\n",
    "    print \"\\n########## After refreshing ####################\"\n",
    "    print \"trading date: \", date\n",
    "    print \"current price: \", current_price\n",
    "    print \"opening price: $\" , opening_price\n",
    "    print \"print price change: $\", price_change\n",
    "    ''';"
   ]
  },
  {
   "cell_type": "code",
   "execution_count": 2,
   "metadata": {
    "collapsed": false
   },
   "outputs": [],
   "source": [
    "#to get all opening prices together\n",
    "def get_historical_opening(historical):\n",
    "\n",
    "    opening = [] #is a dynamic array (list) for python\n",
    "    \n",
    "    for i in range(len(historical)):\n",
    "        x = historical[i]['Open']\n",
    "        opening.append(x)\n",
    "        \n",
    "    return opening\n",
    "\n",
    "def get_historical_high(historical):\n",
    "\n",
    "    days_high = []\n",
    "\n",
    "    for i in range(len(historical)):\n",
    "        x = historical[i]['High']\n",
    "        days_high.append(x)\n",
    "\n",
    "    return days_high\n",
    "\n",
    "def get_historical_low(historical):\n",
    "    days_low = [] \n",
    "\n",
    "    for i in range(len(historical)):\n",
    "        x = historical[i]['Low']\n",
    "        days_low.append(x)\n",
    "\n",
    "    return days_low\n",
    "\n",
    "def get_historical_closing(historical):\n",
    "\n",
    "    #same for closing    \n",
    "    closing = [] \n",
    "    \n",
    "    for i in range(len(historical)):\n",
    "        x = historical[i]['Close']\n",
    "        closing.append(x)\n",
    "        \n",
    "    return closing\n",
    "def get_historical_volume(historical):\n",
    "    historical_volume = [] #is a dynamic array (list) for python\n",
    "    average_volume = []\n",
    "\n",
    "    for i in range(len(historical)):\n",
    "        x = historical[i]['Volume']\n",
    "        historical_volume.append(x)\n",
    "        average_volume.append(company.get_avg_daily_volume())\n",
    "    return historical_volume, average_volume"
   ]
  },
  {
   "cell_type": "code",
   "execution_count": null,
   "metadata": {
    "collapsed": true
   },
   "outputs": [],
   "source": []
  },
  {
   "cell_type": "code",
   "execution_count": 3,
   "metadata": {
    "collapsed": false
   },
   "outputs": [
    {
     "name": "stdout",
     "output_type": "stream",
     "text": [
      "enter the company ticker symbol: esv\n",
      "trading date:  2015-10-20 20:01:00 UTC+0000\n",
      "\n",
      "current price: $ 16.66\n",
      "opening price: $ 16.41\n",
      "\n",
      "day high: $ 16.82\n",
      "day low: $ 16.06\n",
      "\n",
      "print price change: $ +0.58\n",
      "\n",
      "200 days moving average: $ 20.25\n",
      "50 days moving average: $ 15.80\n",
      "\n",
      "Today's volume:  5565631\n",
      "Average volume:  7221010\n",
      "\n",
      "Price to earning (PE) ratio :  None\n",
      "Price earning to growth (PEG) ratio:  -0.15\n",
      "\n",
      "book value 37.12\n"
     ]
    }
   ],
   "source": [
    "from yahoo_finance import Share\n",
    "import numpy as np\n",
    "import matplotlib.pyplot as plt\n",
    "from datetime import datetime\n",
    "import company_name as cn\n",
    "#import sklearn   \n",
    "    \n",
    "ticker = get_symbol()\n",
    "company = Share(ticker)\n",
    "get_data()"
   ]
  },
  {
   "cell_type": "code",
   "execution_count": 4,
   "metadata": {
    "collapsed": false
   },
   "outputs": [
    {
     "name": "stdout",
     "output_type": "stream",
     "text": [
      "Enter begin day in 'yyyy-mm-dd' format: 2015-01-01\n",
      "Enter ending day in 'yyyy-mm-dd' format: 2015-10-01\n",
      "189 Days of historical data\n"
     ]
    }
   ],
   "source": [
    "begin = raw_input(\"Enter begin day in 'yyyy-mm-dd' format: \")\n",
    "end = raw_input(\"Enter ending day in 'yyyy-mm-dd' format: \")\n",
    "\n",
    "historical = company.get_historical(begin, end)\n",
    "print len(historical), \"Days of historical data\"\n",
    "\n",
    "#reverse the list \n",
    "historical.reverse()\n",
    "\n",
    "##-------------------------------------------------------------------------------##\n",
    " #--------- Get historical opening price, day's high, day's low, volume ---------#\n",
    "    #------- For the selected sample size (number of trading days) -------------#\n",
    "    # ----- Features : opening, high, low, volume -----------------------------#\n",
    "    # ---------- Target : closing --------------------------------------------#\n",
    "\n",
    "\n",
    "\n",
    "historical_opening = get_historical_opening(historical)\n",
    "historical_closing = get_historical_closing(historical)\n",
    "historical_high = get_historical_high(historical)\n",
    "historical_low = get_historical_low(historical)\n",
    "historical_volume, average_volume = get_historical_volume(historical)"
   ]
  },
  {
   "cell_type": "code",
   "execution_count": null,
   "metadata": {
    "collapsed": false
   },
   "outputs": [],
   "source": []
  },
  {
   "cell_type": "code",
   "execution_count": null,
   "metadata": {
    "collapsed": false
   },
   "outputs": [],
   "source": []
  },
  {
   "cell_type": "markdown",
   "metadata": {},
   "source": [
    "## Plots"
   ]
  },
  {
   "cell_type": "markdown",
   "metadata": {},
   "source": [
    "Opening vs Closing\n",
    "\n",
    "    blue - opening\n",
    "    red - closing"
   ]
  },
  {
   "cell_type": "code",
   "execution_count": 5,
   "metadata": {
    "collapsed": false
   },
   "outputs": [
    {
     "data": {
      "image/png": "[encoded data removed]",
      "text/plain": [
       "<matplotlib.figure.Figure at 0x7f35782d2d10>"
      ]
     },
     "metadata": {},
     "output_type": "display_data"
    }
   ],
   "source": [
    "%matplotlib inline\n",
    "x_axis = np.arange(0+1, len(historical)+1)\n",
    "\n",
    "plt.plot(x_axis, historical_opening, 'b', x_axis, historical_closing, 'r')\n",
    "plt.xlabel('Day')\n",
    "plt.ylabel('Price ($)')\n",
    "#plt.figure(figsize=(20,10))\n",
    "plt.show();"
   ]
  },
  {
   "cell_type": "markdown",
   "metadata": {},
   "source": [
    "#### Historical opening, closing, high, low\n",
    "\n",
    "    - opening - yellow\n",
    "    - closing - red\n",
    "    - high - blue\n",
    "    - low - green"
   ]
  },
  {
   "cell_type": "code",
   "execution_count": 6,
   "metadata": {
    "collapsed": false
   },
   "outputs": [
    {
     "data": {
      "image/png": "[encoded data removed]",
      "text/plain": [
       "<matplotlib.figure.Figure at 0x7f35546a5f90>"
      ]
     },
     "metadata": {},
     "output_type": "display_data"
    }
   ],
   "source": [
    "plt.plot(x_axis, historical_high, 'b', x_axis, historical_low, 'g', x_axis, historical_opening, 'y', x_axis, historical_closing, 'r')\n",
    "plt.xlabel('Day')\n",
    "plt.ylabel('Price ($)')\n",
    "#plt.figure(figsize=(20,10))\n",
    "plt.show();"
   ]
  },
  {
   "cell_type": "markdown",
   "metadata": {
    "collapsed": false
   },
   "source": [
    "#### Volume vs Average Volume"
   ]
  },
  {
   "cell_type": "code",
   "execution_count": 7,
   "metadata": {
    "collapsed": false,
    "scrolled": true
   },
   "outputs": [
    {
     "data": {
      "image/png": "[encoded data removed]",
      "text/plain": [
       "<matplotlib.figure.Figure at 0x7f35545f9b50>"
      ]
     },
     "metadata": {},
     "output_type": "display_data"
    }
   ],
   "source": [
    "plt.plot(x_axis,historical_volume, 'g', x_axis, average_volume, 'b')\n",
    "plt.xlabel('Day')\n",
    "plt.ylabel('Volume')\n",
    "plt.show()"
   ]
  },
  {
   "cell_type": "markdown",
   "metadata": {
    "collapsed": false
   },
   "source": [
    "Convert the data collected into numpy arrays"
   ]
  },
  {
   "cell_type": "code",
   "execution_count": 8,
   "metadata": {
    "collapsed": true
   },
   "outputs": [],
   "source": [
    "opening =  np.array(historical_opening)\n",
    "volume = np.array(historical_volume)\n",
    "high = np.array(historical_high)\n",
    "low = np.array(historical_low)\n",
    "avg_vol = np.array(average_volume)\n",
    "\n",
    "closing = np.array(historical_closing)"
   ]
  },
  {
   "cell_type": "markdown",
   "metadata": {
    "collapsed": false
   },
   "source": [
    "\n",
    "- Stack the data\n",
    "\n",
    "- Reshape (sample_size, #_of_features "
   ]
  },
  {
   "cell_type": "code",
   "execution_count": 9,
   "metadata": {
    "collapsed": false
   },
   "outputs": [
    {
     "data": {
      "text/plain": [
       "(189, 5)"
      ]
     },
     "execution_count": 9,
     "metadata": {},
     "output_type": "execute_result"
    }
   ],
   "source": [
    "data = np.vstack((opening, high, low, volume, avg_vol))\n",
    "\n",
    "shape1, shape2 = data.shape\n",
    "data = data.reshape(shape2, shape1)\n",
    "\n",
    "data.shape"
   ]
  },
  {
   "cell_type": "markdown",
   "metadata": {},
   "source": [
    "Need today's data for the features selected"
   ]
  },
  {
   "cell_type": "code",
   "execution_count": 10,
   "metadata": {
    "collapsed": false
   },
   "outputs": [
    {
     "name": "stdout",
     "output_type": "stream",
     "text": [
      "16.41\n",
      "5565631\n",
      "16.82\n",
      "16.06\n",
      "7221010\n"
     ]
    }
   ],
   "source": [
    "\n",
    "opening_price = company.get_open()\n",
    "todays_volume = company.get_volume()\n",
    "high = company.get_days_high()\n",
    "low = company.get_days_low()\n",
    "avg_volume = average_volume[0]\n",
    "\n",
    "print opening_price\n",
    "print todays_volume\n",
    "print high\n",
    "print low\n",
    "print avg_volume\n",
    "#target_pre = np.asarray(closing)\n",
    "#target = np.vstack(target_pre)"
   ]
  },
  {
   "cell_type": "markdown",
   "metadata": {
    "collapsed": false
   },
   "source": [
    "Collect today's data int a numpy array"
   ]
  },
  {
   "cell_type": "code",
   "execution_count": 11,
   "metadata": {
    "collapsed": false
   },
   "outputs": [],
   "source": [
    "today =np.array((opening_price, high, low, todays_volume, avg_volume))"
   ]
  },
  {
   "cell_type": "markdown",
   "metadata": {},
   "source": [
    "# Scikit-learn\n",
    "    - Import svm\n",
    "    - fit\n",
    "    - predict"
   ]
  },
  {
   "cell_type": "code",
   "execution_count": 12,
   "metadata": {
    "collapsed": false
   },
   "outputs": [],
   "source": [
    "from sklearn import svm"
   ]
  },
  {
   "cell_type": "code",
   "execution_count": 42,
   "metadata": {
    "collapsed": true
   },
   "outputs": [],
   "source": [
    "clf = svm.SVR(gamma=0.00001, C=29000)\n"
   ]
  },
  {
   "cell_type": "code",
   "execution_count": 45,
   "metadata": {
    "collapsed": false
   },
   "outputs": [
    {
     "name": "stdout",
     "output_type": "stream",
     "text": [
      "Ensco plc [ ESV ]\n",
      "\n",
      "Predicted [closing] price for  2015-10-20 : $ 16.1957213981\n"
     ]
    },
    {
     "ename": "error",
     "evalue": "[Errno 104] Connection reset by peer",
     "output_type": "error",
     "traceback": [
      "\u001b[1;31m---------------------------------------------------------------------------\u001b[0m",
      "\u001b[1;31merror\u001b[0m                                     Traceback (most recent call last)",
      "\u001b[1;32m<ipython-input-45-7f0d22e73969>\u001b[0m in \u001b[0;36m<module>\u001b[1;34m()\u001b[0m\n\u001b[0;32m     10\u001b[0m \u001b[1;32mprint\u001b[0m \u001b[0mname\u001b[0m\u001b[1;33m,\u001b[0m \u001b[1;34m\"[\"\u001b[0m \u001b[1;33m,\u001b[0m \u001b[0mticker\u001b[0m\u001b[1;33m,\u001b[0m \u001b[1;34m\"]\"\u001b[0m  \u001b[1;31m#get company name using the ticker symbol\u001b[0m\u001b[1;33m\u001b[0m\u001b[0m\n\u001b[0;32m     11\u001b[0m \u001b[1;32mprint\u001b[0m \u001b[1;34m\"\\nPredicted [closing] price for \"\u001b[0m\u001b[1;33m,\u001b[0m \u001b[0mdate\u001b[0m\u001b[1;33m[\u001b[0m\u001b[1;33m:\u001b[0m\u001b[1;36m10\u001b[0m\u001b[1;33m]\u001b[0m\u001b[1;33m,\u001b[0m \u001b[1;34m\": $\"\u001b[0m\u001b[1;33m,\u001b[0m \u001b[0mpredict\u001b[0m\u001b[1;33m[\u001b[0m\u001b[1;36m0\u001b[0m\u001b[1;33m]\u001b[0m\u001b[1;33m\u001b[0m\u001b[0m\n\u001b[1;32m---> 12\u001b[1;33m \u001b[0mcompany\u001b[0m\u001b[1;33m.\u001b[0m\u001b[0mrefresh\u001b[0m\u001b[1;33m(\u001b[0m\u001b[1;33m)\u001b[0m\u001b[1;33m\u001b[0m\u001b[0m\n\u001b[0m\u001b[0;32m     13\u001b[0m \u001b[1;33m\u001b[0m\u001b[0m\n\u001b[0;32m     14\u001b[0m \u001b[1;31m#change = (company.get_price() - company.get_open())/company.get_open()\u001b[0m\u001b[1;33m\u001b[0m\u001b[1;33m\u001b[0m\u001b[0m\n",
      "\u001b[1;32m/home/prakash/anaconda/lib/python2.7/site-packages/yahoo_finance-1.2.1-py2.7.egg/yahoo_finance/__init__.pyc\u001b[0m in \u001b[0;36mrefresh\u001b[1;34m(self)\u001b[0m\n\u001b[0;32m    140\u001b[0m \u001b[1;33m\u001b[0m\u001b[0m\n\u001b[0;32m    141\u001b[0m         \"\"\"\n\u001b[1;32m--> 142\u001b[1;33m         \u001b[0mself\u001b[0m\u001b[1;33m.\u001b[0m\u001b[0mdata_set\u001b[0m \u001b[1;33m=\u001b[0m \u001b[0mself\u001b[0m\u001b[1;33m.\u001b[0m\u001b[0m_fetch\u001b[0m\u001b[1;33m(\u001b[0m\u001b[1;33m)\u001b[0m\u001b[1;33m\u001b[0m\u001b[0m\n\u001b[0m\u001b[0;32m    143\u001b[0m \u001b[1;33m\u001b[0m\u001b[0m\n\u001b[0;32m    144\u001b[0m \u001b[1;33m\u001b[0m\u001b[0m\n",
      "\u001b[1;32m/home/prakash/anaconda/lib/python2.7/site-packages/yahoo_finance-1.2.1-py2.7.egg/yahoo_finance/__init__.pyc\u001b[0m in \u001b[0;36m_fetch\u001b[1;34m(self)\u001b[0m\n\u001b[0;32m    179\u001b[0m \u001b[1;33m\u001b[0m\u001b[0m\n\u001b[0;32m    180\u001b[0m     \u001b[1;32mdef\u001b[0m \u001b[0m_fetch\u001b[0m\u001b[1;33m(\u001b[0m\u001b[0mself\u001b[0m\u001b[1;33m)\u001b[0m\u001b[1;33m:\u001b[0m\u001b[1;33m\u001b[0m\u001b[0m\n\u001b[1;32m--> 181\u001b[1;33m         \u001b[0mdata\u001b[0m \u001b[1;33m=\u001b[0m \u001b[0msuper\u001b[0m\u001b[1;33m(\u001b[0m\u001b[0mShare\u001b[0m\u001b[1;33m,\u001b[0m \u001b[0mself\u001b[0m\u001b[1;33m)\u001b[0m\u001b[1;33m.\u001b[0m\u001b[0m_fetch\u001b[0m\u001b[1;33m(\u001b[0m\u001b[1;33m)\u001b[0m\u001b[1;33m\u001b[0m\u001b[0m\n\u001b[0m\u001b[0;32m    182\u001b[0m         \u001b[1;32mif\u001b[0m \u001b[0mdata\u001b[0m\u001b[1;33m[\u001b[0m\u001b[1;34m'LastTradeDate'\u001b[0m\u001b[1;33m]\u001b[0m \u001b[1;32mand\u001b[0m \u001b[0mdata\u001b[0m\u001b[1;33m[\u001b[0m\u001b[1;34m'LastTradeTime'\u001b[0m\u001b[1;33m]\u001b[0m\u001b[1;33m:\u001b[0m\u001b[1;33m\u001b[0m\u001b[0m\n\u001b[0;32m    183\u001b[0m             \u001b[0mdata\u001b[0m\u001b[1;33m[\u001b[0m\u001b[1;34mu'LastTradeDateTimeUTC'\u001b[0m\u001b[1;33m]\u001b[0m \u001b[1;33m=\u001b[0m \u001b[0medt_to_utc\u001b[0m\u001b[1;33m(\u001b[0m\u001b[1;34m'{0} {1}'\u001b[0m\u001b[1;33m.\u001b[0m\u001b[0mformat\u001b[0m\u001b[1;33m(\u001b[0m\u001b[0mdata\u001b[0m\u001b[1;33m[\u001b[0m\u001b[1;34m'LastTradeDate'\u001b[0m\u001b[1;33m]\u001b[0m\u001b[1;33m,\u001b[0m \u001b[0mdata\u001b[0m\u001b[1;33m[\u001b[0m\u001b[1;34m'LastTradeTime'\u001b[0m\u001b[1;33m]\u001b[0m\u001b[1;33m)\u001b[0m\u001b[1;33m)\u001b[0m\u001b[1;33m\u001b[0m\u001b[0m\n",
      "\u001b[1;32m/home/prakash/anaconda/lib/python2.7/site-packages/yahoo_finance-1.2.1-py2.7.egg/yahoo_finance/__init__.pyc\u001b[0m in \u001b[0;36m_fetch\u001b[1;34m(self)\u001b[0m\n\u001b[0;32m    132\u001b[0m     \u001b[1;32mdef\u001b[0m \u001b[0m_fetch\u001b[0m\u001b[1;33m(\u001b[0m\u001b[0mself\u001b[0m\u001b[1;33m)\u001b[0m\u001b[1;33m:\u001b[0m\u001b[1;33m\u001b[0m\u001b[0m\n\u001b[0;32m    133\u001b[0m         \u001b[0mquery\u001b[0m \u001b[1;33m=\u001b[0m \u001b[0mself\u001b[0m\u001b[1;33m.\u001b[0m\u001b[0m_prepare_query\u001b[0m\u001b[1;33m(\u001b[0m\u001b[0mtable\u001b[0m\u001b[1;33m=\u001b[0m\u001b[0mself\u001b[0m\u001b[1;33m.\u001b[0m\u001b[0m_table\u001b[0m\u001b[1;33m,\u001b[0m \u001b[0mkey\u001b[0m\u001b[1;33m=\u001b[0m\u001b[0mself\u001b[0m\u001b[1;33m.\u001b[0m\u001b[0m_key\u001b[0m\u001b[1;33m)\u001b[0m\u001b[1;33m\u001b[0m\u001b[0m\n\u001b[1;32m--> 134\u001b[1;33m         \u001b[0mdata\u001b[0m \u001b[1;33m=\u001b[0m \u001b[0mself\u001b[0m\u001b[1;33m.\u001b[0m\u001b[0m_request\u001b[0m\u001b[1;33m(\u001b[0m\u001b[0mquery\u001b[0m\u001b[1;33m)\u001b[0m\u001b[1;33m\u001b[0m\u001b[0m\n\u001b[0m\u001b[0;32m    135\u001b[0m         \u001b[1;32mreturn\u001b[0m \u001b[0mdata\u001b[0m\u001b[1;33m\u001b[0m\u001b[0m\n\u001b[0;32m    136\u001b[0m \u001b[1;33m\u001b[0m\u001b[0m\n",
      "\u001b[1;32m/home/prakash/anaconda/lib/python2.7/site-packages/yahoo_finance-1.2.1-py2.7.egg/yahoo_finance/__init__.pyc\u001b[0m in \u001b[0;36m_request\u001b[1;34m(self, query)\u001b[0m\n\u001b[0;32m    116\u001b[0m \u001b[1;33m\u001b[0m\u001b[0m\n\u001b[0;32m    117\u001b[0m     \u001b[1;32mdef\u001b[0m \u001b[0m_request\u001b[0m\u001b[1;33m(\u001b[0m\u001b[0mself\u001b[0m\u001b[1;33m,\u001b[0m \u001b[0mquery\u001b[0m\u001b[1;33m)\u001b[0m\u001b[1;33m:\u001b[0m\u001b[1;33m\u001b[0m\u001b[0m\n\u001b[1;32m--> 118\u001b[1;33m         \u001b[0mresponse\u001b[0m \u001b[1;33m=\u001b[0m \u001b[0myql\u001b[0m\u001b[1;33m.\u001b[0m\u001b[0mYQLQuery\u001b[0m\u001b[1;33m(\u001b[0m\u001b[1;33m)\u001b[0m\u001b[1;33m.\u001b[0m\u001b[0mexecute\u001b[0m\u001b[1;33m(\u001b[0m\u001b[0mquery\u001b[0m\u001b[1;33m)\u001b[0m\u001b[1;33m\u001b[0m\u001b[0m\n\u001b[0m\u001b[0;32m    119\u001b[0m         \u001b[1;32mtry\u001b[0m\u001b[1;33m:\u001b[0m\u001b[1;33m\u001b[0m\u001b[0m\n\u001b[0;32m    120\u001b[0m             \u001b[0m_\u001b[0m\u001b[1;33m,\u001b[0m \u001b[0mresults\u001b[0m \u001b[1;33m=\u001b[0m \u001b[0mresponse\u001b[0m\u001b[1;33m[\u001b[0m\u001b[1;34m'query'\u001b[0m\u001b[1;33m]\u001b[0m\u001b[1;33m[\u001b[0m\u001b[1;34m'results'\u001b[0m\u001b[1;33m]\u001b[0m\u001b[1;33m.\u001b[0m\u001b[0mpopitem\u001b[0m\u001b[1;33m(\u001b[0m\u001b[1;33m)\u001b[0m\u001b[1;33m\u001b[0m\u001b[0m\n",
      "\u001b[1;32m/home/prakash/anaconda/lib/python2.7/site-packages/yahoo_finance-1.2.1-py2.7.egg/yahoo_finance/yql.pyc\u001b[0m in \u001b[0;36mexecute\u001b[1;34m(self, yql, token)\u001b[0m\n\u001b[0;32m     58\u001b[0m \u001b[1;33m\u001b[0m\u001b[0m\n\u001b[0;32m     59\u001b[0m     \u001b[0mself\u001b[0m\u001b[1;33m.\u001b[0m\u001b[0mconnection\u001b[0m\u001b[1;33m.\u001b[0m\u001b[0mrequest\u001b[0m\u001b[1;33m(\u001b[0m\u001b[1;34m'GET'\u001b[0m\u001b[1;33m,\u001b[0m \u001b[0mPUBLIC_API_URL\u001b[0m \u001b[1;33m+\u001b[0m \u001b[1;34m'?'\u001b[0m \u001b[1;33m+\u001b[0m \u001b[0murlencode\u001b[0m\u001b[1;33m(\u001b[0m\u001b[1;33m{\u001b[0m \u001b[1;34m'q'\u001b[0m\u001b[1;33m:\u001b[0m \u001b[0myql\u001b[0m\u001b[1;33m,\u001b[0m \u001b[1;34m'format'\u001b[0m\u001b[1;33m:\u001b[0m \u001b[1;34m'json'\u001b[0m\u001b[1;33m,\u001b[0m \u001b[1;34m'env'\u001b[0m\u001b[1;33m:\u001b[0m \u001b[0mDATATABLES_URL\u001b[0m \u001b[1;33m}\u001b[0m\u001b[1;33m)\u001b[0m\u001b[1;33m)\u001b[0m\u001b[1;33m\u001b[0m\u001b[0m\n\u001b[1;32m---> 60\u001b[1;33m     \u001b[1;32mreturn\u001b[0m \u001b[0msimplejson\u001b[0m\u001b[1;33m.\u001b[0m\u001b[0mloads\u001b[0m\u001b[1;33m(\u001b[0m\u001b[0mself\u001b[0m\u001b[1;33m.\u001b[0m\u001b[0mconnection\u001b[0m\u001b[1;33m.\u001b[0m\u001b[0mgetresponse\u001b[0m\u001b[1;33m(\u001b[0m\u001b[1;33m)\u001b[0m\u001b[1;33m.\u001b[0m\u001b[0mread\u001b[0m\u001b[1;33m(\u001b[0m\u001b[1;33m)\u001b[0m\u001b[1;33m)\u001b[0m\u001b[1;33m\u001b[0m\u001b[0m\n\u001b[0m\u001b[0;32m     61\u001b[0m \u001b[1;33m\u001b[0m\u001b[0m\n",
      "\u001b[1;32m/home/prakash/anaconda/lib/python2.7/httplib.pyc\u001b[0m in \u001b[0;36mgetresponse\u001b[1;34m(self, buffering)\u001b[0m\n\u001b[0;32m   1130\u001b[0m \u001b[1;33m\u001b[0m\u001b[0m\n\u001b[0;32m   1131\u001b[0m         \u001b[1;32mtry\u001b[0m\u001b[1;33m:\u001b[0m\u001b[1;33m\u001b[0m\u001b[0m\n\u001b[1;32m-> 1132\u001b[1;33m             \u001b[0mresponse\u001b[0m\u001b[1;33m.\u001b[0m\u001b[0mbegin\u001b[0m\u001b[1;33m(\u001b[0m\u001b[1;33m)\u001b[0m\u001b[1;33m\u001b[0m\u001b[0m\n\u001b[0m\u001b[0;32m   1133\u001b[0m             \u001b[1;32massert\u001b[0m \u001b[0mresponse\u001b[0m\u001b[1;33m.\u001b[0m\u001b[0mwill_close\u001b[0m \u001b[1;33m!=\u001b[0m \u001b[0m_UNKNOWN\u001b[0m\u001b[1;33m\u001b[0m\u001b[0m\n\u001b[0;32m   1134\u001b[0m             \u001b[0mself\u001b[0m\u001b[1;33m.\u001b[0m\u001b[0m__state\u001b[0m \u001b[1;33m=\u001b[0m \u001b[0m_CS_IDLE\u001b[0m\u001b[1;33m\u001b[0m\u001b[0m\n",
      "\u001b[1;32m/home/prakash/anaconda/lib/python2.7/httplib.pyc\u001b[0m in \u001b[0;36mbegin\u001b[1;34m(self)\u001b[0m\n\u001b[0;32m    451\u001b[0m         \u001b[1;31m# read until we get a non-100 response\u001b[0m\u001b[1;33m\u001b[0m\u001b[1;33m\u001b[0m\u001b[0m\n\u001b[0;32m    452\u001b[0m         \u001b[1;32mwhile\u001b[0m \u001b[0mTrue\u001b[0m\u001b[1;33m:\u001b[0m\u001b[1;33m\u001b[0m\u001b[0m\n\u001b[1;32m--> 453\u001b[1;33m             \u001b[0mversion\u001b[0m\u001b[1;33m,\u001b[0m \u001b[0mstatus\u001b[0m\u001b[1;33m,\u001b[0m \u001b[0mreason\u001b[0m \u001b[1;33m=\u001b[0m \u001b[0mself\u001b[0m\u001b[1;33m.\u001b[0m\u001b[0m_read_status\u001b[0m\u001b[1;33m(\u001b[0m\u001b[1;33m)\u001b[0m\u001b[1;33m\u001b[0m\u001b[0m\n\u001b[0m\u001b[0;32m    454\u001b[0m             \u001b[1;32mif\u001b[0m \u001b[0mstatus\u001b[0m \u001b[1;33m!=\u001b[0m \u001b[0mCONTINUE\u001b[0m\u001b[1;33m:\u001b[0m\u001b[1;33m\u001b[0m\u001b[0m\n\u001b[0;32m    455\u001b[0m                 \u001b[1;32mbreak\u001b[0m\u001b[1;33m\u001b[0m\u001b[0m\n",
      "\u001b[1;32m/home/prakash/anaconda/lib/python2.7/httplib.pyc\u001b[0m in \u001b[0;36m_read_status\u001b[1;34m(self)\u001b[0m\n\u001b[0;32m    407\u001b[0m     \u001b[1;32mdef\u001b[0m \u001b[0m_read_status\u001b[0m\u001b[1;33m(\u001b[0m\u001b[0mself\u001b[0m\u001b[1;33m)\u001b[0m\u001b[1;33m:\u001b[0m\u001b[1;33m\u001b[0m\u001b[0m\n\u001b[0;32m    408\u001b[0m         \u001b[1;31m# Initialize with Simple-Response defaults\u001b[0m\u001b[1;33m\u001b[0m\u001b[1;33m\u001b[0m\u001b[0m\n\u001b[1;32m--> 409\u001b[1;33m         \u001b[0mline\u001b[0m \u001b[1;33m=\u001b[0m \u001b[0mself\u001b[0m\u001b[1;33m.\u001b[0m\u001b[0mfp\u001b[0m\u001b[1;33m.\u001b[0m\u001b[0mreadline\u001b[0m\u001b[1;33m(\u001b[0m\u001b[0m_MAXLINE\u001b[0m \u001b[1;33m+\u001b[0m \u001b[1;36m1\u001b[0m\u001b[1;33m)\u001b[0m\u001b[1;33m\u001b[0m\u001b[0m\n\u001b[0m\u001b[0;32m    410\u001b[0m         \u001b[1;32mif\u001b[0m \u001b[0mlen\u001b[0m\u001b[1;33m(\u001b[0m\u001b[0mline\u001b[0m\u001b[1;33m)\u001b[0m \u001b[1;33m>\u001b[0m \u001b[0m_MAXLINE\u001b[0m\u001b[1;33m:\u001b[0m\u001b[1;33m\u001b[0m\u001b[0m\n\u001b[0;32m    411\u001b[0m             \u001b[1;32mraise\u001b[0m \u001b[0mLineTooLong\u001b[0m\u001b[1;33m(\u001b[0m\u001b[1;34m\"header line\"\u001b[0m\u001b[1;33m)\u001b[0m\u001b[1;33m\u001b[0m\u001b[0m\n",
      "\u001b[1;32m/home/prakash/anaconda/lib/python2.7/socket.pyc\u001b[0m in \u001b[0;36mreadline\u001b[1;34m(self, size)\u001b[0m\n\u001b[0;32m    478\u001b[0m             \u001b[1;32mwhile\u001b[0m \u001b[0mTrue\u001b[0m\u001b[1;33m:\u001b[0m\u001b[1;33m\u001b[0m\u001b[0m\n\u001b[0;32m    479\u001b[0m                 \u001b[1;32mtry\u001b[0m\u001b[1;33m:\u001b[0m\u001b[1;33m\u001b[0m\u001b[0m\n\u001b[1;32m--> 480\u001b[1;33m                     \u001b[0mdata\u001b[0m \u001b[1;33m=\u001b[0m \u001b[0mself\u001b[0m\u001b[1;33m.\u001b[0m\u001b[0m_sock\u001b[0m\u001b[1;33m.\u001b[0m\u001b[0mrecv\u001b[0m\u001b[1;33m(\u001b[0m\u001b[0mself\u001b[0m\u001b[1;33m.\u001b[0m\u001b[0m_rbufsize\u001b[0m\u001b[1;33m)\u001b[0m\u001b[1;33m\u001b[0m\u001b[0m\n\u001b[0m\u001b[0;32m    481\u001b[0m                 \u001b[1;32mexcept\u001b[0m \u001b[0merror\u001b[0m\u001b[1;33m,\u001b[0m \u001b[0me\u001b[0m\u001b[1;33m:\u001b[0m\u001b[1;33m\u001b[0m\u001b[0m\n\u001b[0;32m    482\u001b[0m                     \u001b[1;32mif\u001b[0m \u001b[0me\u001b[0m\u001b[1;33m.\u001b[0m\u001b[0margs\u001b[0m\u001b[1;33m[\u001b[0m\u001b[1;36m0\u001b[0m\u001b[1;33m]\u001b[0m \u001b[1;33m==\u001b[0m \u001b[0mEINTR\u001b[0m\u001b[1;33m:\u001b[0m\u001b[1;33m\u001b[0m\u001b[0m\n",
      "\u001b[1;31merror\u001b[0m: [Errno 104] Connection reset by peer"
     ]
    }
   ],
   "source": [
    "\n",
    "#Fit takes in data (#_samples X #_of_features array), and target(closing - 1 X #_of_Sample_size array)\n",
    "clf.fit(data[:-10],closing[:-10])\n",
    "\n",
    "predict = clf.predict(today)\n",
    "\n",
    "\n",
    "date = company.get_trade_datetime()\n",
    "name = cn.find_name(ticker)\n",
    "print name, \"[\" , ticker, \"]\"  #get company name using the ticker symbol\n",
    "print \"\\nPredicted [closing] price for \", date[:10], \": $\", predict[0]\n",
    "company.refresh()\n",
    "\n",
    "#change = (company.get_price() - company.get_open())/company.get_open()\n",
    "#print change\n",
    "\n",
    "print \"current price $\", company.get_price()\n",
    "#print \"% change today \", "
   ]
  },
  {
   "cell_type": "code",
   "execution_count": null,
   "metadata": {
    "collapsed": true
   },
   "outputs": [],
   "source": []
  },
  {
   "cell_type": "code",
   "execution_count": null,
   "metadata": {
    "collapsed": true
   },
   "outputs": [],
   "source": []
  },
  {
   "cell_type": "markdown",
   "metadata": {},
   "source": [
    "\n",
    "\n",
    "To do:\n",
    "    - different implementations of svm\n",
    "        - svr\n",
    "        - NuSVR\n",
    "        - LinearSVR (Only Linear Kernel\n",
    "        \n",
    "    - linear kernel vs non-linear kernels\n",
    "        \n",
    "    - parameters for fit()\n",
    "    \n",
    "    - Point system for getting it right vs wrong (additional training)\n",
    "    \n",
    "    - train the system at each iteration\n",
    "        "
   ]
  },
  {
   "cell_type": "code",
   "execution_count": null,
   "metadata": {
    "collapsed": true
   },
   "outputs": [],
   "source": []
  }
 ],
 "metadata": {
  "kernelspec": {
   "display_name": "Python 2",
   "language": "python",
   "name": "python2"
  },
  "language_info": {
   "codemirror_mode": {
    "name": "ipython",
    "version": 2
   },
   "file_extension": ".py",
   "mimetype": "text/x-python",
   "name": "python",
   "nbconvert_exporter": "python",
   "pygments_lexer": "ipython2",
   "version": "2.7.10"
  }
 },
 "nbformat": 4,
 "nbformat_minor": 0
}
