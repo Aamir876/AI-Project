{
 "cells": [
  {
   "cell_type": "code",
   "execution_count": 1,
   "metadata": {
    "collapsed": true
   },
   "outputs": [],
   "source": [
    "def get_symbol():\n",
    "    company_ticker = raw_input(\"enter the company ticker symbol: \")\n",
    "    company_ticker = company_ticker.upper()\n",
    "    return company_ticker\n",
    "\n",
    "def get_data():\n",
    "    \n",
    "    #date and time of the trade\n",
    "    date = company.get_trade_datetime()\n",
    "\n",
    "    #opening price\n",
    "    opening_price = company.get_open()\n",
    "\n",
    "    #Price right now (Yahoo finance is delayed by 15 mins????)\n",
    "    current_price = company.get_price()\n",
    "\n",
    "    #Day's high and low prices \n",
    "    day_high = company.get_days_high()\n",
    "    day_low = company.get_days_low()\n",
    "    \n",
    "    #price changes from opening price\n",
    "    price_change = company.get_change()\n",
    "    \n",
    "    \n",
    "    #200 days moving average\n",
    "    th_moving_avg = company.get_200day_moving_avg()\n",
    "    #50 days moving average\n",
    "    fifty_moving_avg = company.get_50day_moving_avg()\n",
    "    \n",
    "    #volume\n",
    "    volume = company.get_volume()\n",
    "    #compare this days volume with average volume\n",
    "    average_daily_volume = company.get_avg_daily_volume()\n",
    "\n",
    "    #PE ratio\n",
    "    PE = company.get_price_earnings_ratio()\n",
    "\n",
    "    #PEG ratio ---> pe ratio divided by 1-reinvestment (growth)\n",
    "    PEG = company.get_price_earnings_growth_ratio()\n",
    "    \n",
    "    #book value\n",
    "    book_value = company.get_book_value()\n",
    "\n",
    "    print \"trading date: \", date\n",
    "    print \"\\ncurrent price: $\", current_price\n",
    "    print \"opening price: $\" , opening_price\n",
    "    print \"\\nday high: $\", day_high\n",
    "    print \"day low: $\", day_low\n",
    "    print \"\\nprint price change: $\", price_change\n",
    "    print \"\\n200 days moving average: $\", th_moving_avg\n",
    "    print \"50 days moving average: $\", fifty_moving_avg\n",
    "    print \"\\nToday's volume: \", volume\n",
    "    print \"Average volume: \", average_daily_volume\n",
    "    print \"\\nPrice to earning (PE) ratio : \", PE\n",
    "    print \"Price earning to growth (PEG) ratio: \", PEG\n",
    "    print \"\\nbook value\",  book_value\n",
    "    '''\n",
    "    if you refresh after market closes, you will get error\n",
    "    #Refresh to get a new price\n",
    "    # Note that after the market closes @ 4PM EST, the price will stay the same\n",
    "    company.refresh()\n",
    "\n",
    "    date = company.get_trade_datetime()\n",
    "    current_price = company.get_price()\n",
    "    price_change = company.get_change()\n",
    "\n",
    "    print \"\\n########## After refreshing ####################\"\n",
    "    print \"trading date: \", date\n",
    "    print \"current price: \", current_price\n",
    "    print \"opening price: $\" , opening_price\n",
    "    print \"print price change: $\", price_change\n",
    "    ''';"
   ]
  },
  {
   "cell_type": "code",
   "execution_count": 2,
   "metadata": {
    "collapsed": false
   },
   "outputs": [],
   "source": [
    "#to get all opening prices together\n",
    "def get_historical_opening(historical):\n",
    "\n",
    "    opening = [] #is a dynamic array (list) for python\n",
    "    \n",
    "    for i in range(len(historical)):\n",
    "        x = historical[i]['Open']\n",
    "        opening.append(x)\n",
    "        \n",
    "    return opening\n",
    "\n",
    "def get_historical_high(historical):\n",
    "\n",
    "    days_high = []\n",
    "\n",
    "    for i in range(len(historical)):\n",
    "        x = historical[i]['High']\n",
    "        days_high.append(x)\n",
    "\n",
    "    return days_high\n",
    "\n",
    "def get_historical_low(historical):\n",
    "    days_low = [] \n",
    "\n",
    "    for i in range(len(historical)):\n",
    "        x = historical[i]['Low']\n",
    "        days_low.append(x)\n",
    "\n",
    "    return days_low\n",
    "\n",
    "def get_historical_closing(historical):\n",
    "\n",
    "    #same for closing    \n",
    "    closing = [] \n",
    "    \n",
    "    for i in range(len(historical)):\n",
    "        x = historical[i]['Close']\n",
    "        closing.append(x)\n",
    "        \n",
    "    return closing\n",
    "def get_historical_volume(historical):\n",
    "    historical_volume = [] #is a dynamic array (list) for python\n",
    "    average_volume = []\n",
    "\n",
    "    for i in range(len(historical)):\n",
    "        x = historical[i]['Volume']\n",
    "        historical_volume.append(x)\n",
    "        average_volume.append(company.get_avg_daily_volume())\n",
    "    return historical_volume, average_volume\n"
   ]
  },
  {
   "cell_type": "code",
   "execution_count": 4,
   "metadata": {
    "collapsed": false
   },
   "outputs": [
    {
     "name": "stdout",
     "output_type": "stream",
     "text": [
      "enter the company ticker symbol: goog\n",
      "trading date:  2015-10-01 20:00:00 UTC+0000\n",
      "\n",
      "current price: $ 611.29\n",
      "opening price: $ 608.37\n",
      "\n",
      "day high: $ 612.09\n",
      "day low: $ 599.85\n",
      "\n",
      "print price change: $ +2.87\n",
      "\n",
      "200 days moving average: $ 573.96\n",
      "50 days moving average: $ 623.58\n",
      "\n",
      "Today's volume:  1867601\n",
      "Average volume:  2576260\n",
      "\n",
      "Price to earning (PE) ratio :  28.80\n",
      "Price earning to growth (PEG) ratio:  1.16\n",
      "\n",
      "book value 163.07\n"
     ]
    }
   ],
   "source": [
    "from yahoo_finance import Share\n",
    "import numpy as np\n",
    "import matplotlib.pyplot as plt\n",
    "#import sklearn   \n",
    "    \n",
    "ticker = get_symbol()\n",
    "company = Share(ticker)\n",
    "get_data()"
   ]
  },
  {
   "cell_type": "code",
   "execution_count": 5,
   "metadata": {
    "collapsed": false
   },
   "outputs": [
    {
     "name": "stdout",
     "output_type": "stream",
     "text": [
      "Enter begin day in 'yyyy-mm-dd' format: 2015-08-01\n",
      "Enter ending day in 'yyyy-mm-dd' format: 2015-09-30\n",
      "42 Days of historical data\n"
     ]
    }
   ],
   "source": [
    "begin = raw_input(\"Enter begin day in 'yyyy-mm-dd' format: \")\n",
    "end = raw_input(\"Enter ending day in 'yyyy-mm-dd' format: \")\n",
    "\n",
    "historical = company.get_historical(begin, end)\n",
    "print len(historical), \"Days of historical data\"\n",
    "\n",
    "#reverse the list \n",
    "historical.reverse()\n",
    "\n",
    "##-------------------------------------------------------------------------------##\n",
    " #--------- Get historical opening price, day's high, day's low, volume ---------#\n",
    "    #------- For the selected sample size (number of trading days) -------------#\n",
    "    # ----- Features : opening, high, low, volume -----------------------------#\n",
    "    # ---------- Target : closing --------------------------------------------#\n",
    "\n",
    "\n",
    "\n",
    "historical_opening = get_historical_opening(historical)\n",
    "historical_closing = get_historical_closing(historical)\n",
    "historical_high = get_historical_high(historical)\n",
    "historical_low = get_historical_low(historical)\n",
    "historical_volume, average_volume = get_historical_volume(historical)"
   ]
  },
  {
   "cell_type": "code",
   "execution_count": null,
   "metadata": {
    "collapsed": false
   },
   "outputs": [],
   "source": []
  },
  {
   "cell_type": "markdown",
   "metadata": {},
   "source": [
    "## Plots"
   ]
  },
  {
   "cell_type": "markdown",
   "metadata": {},
   "source": [
    "Opening vs Closing\n",
    "\n",
    "    blue - opening\n",
    "    red - closing"
   ]
  },
  {
   "cell_type": "code",
   "execution_count": 6,
   "metadata": {
    "collapsed": false
   },
   "outputs": [
    {
     "data": {
      "image/png": "[encoded data removed]",
      "text/plain": [
       "<matplotlib.figure.Figure at 0x7fbf834968d0>"
      ]
     },
     "metadata": {},
     "output_type": "display_data"
    }
   ],
   "source": [
    "%matplotlib inline\n",
    "x_axis = np.arange(0+1, len(historical)+1)\n",
    "\n",
    "plt.plot(x_axis, historical_opening, 'b', x_axis, historical_closing, 'r')\n",
    "plt.xlabel('Day')\n",
    "plt.ylabel('Price ($)')\n",
    "#plt.figure(figsize=(20,10))\n",
    "plt.show();"
   ]
  },
  {
   "cell_type": "markdown",
   "metadata": {},
   "source": [
    "#### Historical opening, closing, high, low\n",
    "\n",
    "    - opening - yellow\n",
    "    - closing - red\n",
    "    - high - blue\n",
    "    - low - green"
   ]
  },
  {
   "cell_type": "code",
   "execution_count": 7,
   "metadata": {
    "collapsed": false
   },
   "outputs": [
    {
     "data": {
      "image/png": "[encoded data removed]",
      "text/plain": [
       "<matplotlib.figure.Figure at 0x7fbf8335fc90>"
      ]
     },
     "metadata": {},
     "output_type": "display_data"
    }
   ],
   "source": [
    "plt.plot(x_axis, historical_high, 'b', x_axis, historical_low, 'g', x_axis, historical_opening, 'y', x_axis, historical_closing, 'r')\n",
    "plt.xlabel('Day')\n",
    "plt.ylabel('Price ($)')\n",
    "#plt.figure(figsize=(20,10))\n",
    "plt.show();"
   ]
  },
  {
   "cell_type": "markdown",
   "metadata": {
    "collapsed": false
   },
   "source": [
    "#### Volume vs Average Volume"
   ]
  },
  {
   "cell_type": "code",
   "execution_count": 8,
   "metadata": {
    "collapsed": false,
    "scrolled": true
   },
   "outputs": [
    {
     "data": {
      "image/png": "[encoded data removed]",
      "text/plain": [
       "<matplotlib.figure.Figure at 0x7fbf834c0f10>"
      ]
     },
     "metadata": {},
     "output_type": "display_data"
    }
   ],
   "source": [
    "plt.plot(x_axis,historical_volume, 'g', x_axis, average_volume, 'b')\n",
    "plt.xlabel('Day')\n",
    "plt.ylabel('Volume')\n",
    "plt.show()"
   ]
  },
  {
   "cell_type": "markdown",
   "metadata": {
    "collapsed": false
   },
   "source": [
    "Convert the data collected into numpy arrays"
   ]
  },
  {
   "cell_type": "code",
   "execution_count": 29,
   "metadata": {
    "collapsed": true
   },
   "outputs": [],
   "source": [
    "opening =  np.array(historical_opening)\n",
    "volume = np.array(historical_volume)\n",
    "high = np.array(historical_high)\n",
    "low = np.array(historical_low)\n",
    "avg_vol = np.array(average_volume)\n",
    "\n",
    "closing = np.array(historical_closing)"
   ]
  },
  {
   "cell_type": "markdown",
   "metadata": {
    "collapsed": false
   },
   "source": [
    "\n",
    "- Stack the data\n",
    "\n",
    "- Reshape (sample_size, #_of_features "
   ]
  },
  {
   "cell_type": "code",
   "execution_count": 30,
   "metadata": {
    "collapsed": false
   },
   "outputs": [
    {
     "data": {
      "text/plain": [
       "(42, 5)"
      ]
     },
     "execution_count": 30,
     "metadata": {},
     "output_type": "execute_result"
    }
   ],
   "source": [
    "data = np.vstack((opening, high, low, volume, avg_vol))\n",
    "\n",
    "shape1, shape2 = data.shape\n",
    "data = data.reshape(shape2, shape1)\n",
    "\n",
    "data.shape"
   ]
  },
  {
   "cell_type": "markdown",
   "metadata": {},
   "source": [
    "Need today's data for the features selected"
   ]
  },
  {
   "cell_type": "code",
   "execution_count": 31,
   "metadata": {
    "collapsed": false
   },
   "outputs": [
    {
     "name": "stdout",
     "output_type": "stream",
     "text": [
      "608.37\n",
      "1867601\n",
      "612.09\n",
      "599.85\n",
      "2576260\n"
     ]
    }
   ],
   "source": [
    "\n",
    "opening_price = company.get_open()\n",
    "todays_volume = company.get_volume()\n",
    "high = company.get_days_high()\n",
    "low = company.get_days_low()\n",
    "avg_volume = average_volume[0]\n",
    "\n",
    "print opening_price\n",
    "print todays_volume\n",
    "print high\n",
    "print low\n",
    "print avg_volume\n",
    "#target_pre = np.asarray(closing)\n",
    "#target = np.vstack(target_pre)"
   ]
  },
  {
   "cell_type": "markdown",
   "metadata": {
    "collapsed": false
   },
   "source": [
    "Collect today's data int a numpy array"
   ]
  },
  {
   "cell_type": "code",
   "execution_count": 32,
   "metadata": {
    "collapsed": false
   },
   "outputs": [],
   "source": [
    "today =np.array((opening_price, high, low, todays_volume, avg_volume))"
   ]
  },
  {
   "cell_type": "markdown",
   "metadata": {},
   "source": [
    "# Scikit-learn\n",
    "    - Import svm\n",
    "    - fit\n",
    "    - predict"
   ]
  },
  {
   "cell_type": "code",
   "execution_count": 33,
   "metadata": {
    "collapsed": false
   },
   "outputs": [],
   "source": [
    "from sklearn import svm"
   ]
  },
  {
   "cell_type": "code",
   "execution_count": 34,
   "metadata": {
    "collapsed": false
   },
   "outputs": [
    {
     "name": "stdout",
     "output_type": "stream",
     "text": [
      "[ 629.425]\n"
     ]
    }
   ],
   "source": [
    "clf = svm.SVR()\n",
    "\n",
    "#Fit takes in data (#_samples X #_of_features array), and target(closing - 1 X #_of_Sample_size array)\n",
    "clf.fit(data,closing)\n",
    "\n",
    "predict = clf.predict(today)\n",
    "print predict"
   ]
  },
  {
   "cell_type": "markdown",
   "metadata": {},
   "source": [
    "\n",
    "\n",
    "To do:\n",
    "    - different implementations of svm\n",
    "        - svr\n",
    "        - NuSVR\n",
    "        - LinearSVR (Only Linear Kernel\n",
    "        \n",
    "    - linear kernel vs non-linear kernels\n",
    "        \n",
    "    - parameters for fit()\n",
    "    \n",
    "    - Point system for getting it right vs wrong (additional training)\n",
    "        "
   ]
  },
  {
   "cell_type": "code",
   "execution_count": null,
   "metadata": {
    "collapsed": true
   },
   "outputs": [],
   "source": []
  },
  {
   "cell_type": "code",
   "execution_count": null,
   "metadata": {
    "collapsed": true
   },
   "outputs": [],
   "source": []
  }
 ],
 "metadata": {
  "kernelspec": {
   "display_name": "Python 2",
   "language": "python",
   "name": "python2"
  },
  "language_info": {
   "codemirror_mode": {
    "name": "ipython",
    "version": 2
   },
   "file_extension": ".py",
   "mimetype": "text/x-python",
   "name": "python",
   "nbconvert_exporter": "python",
   "pygments_lexer": "ipython2",
   "version": "2.7.10"
  }
 },
 "nbformat": 4,
 "nbformat_minor": 0
}
