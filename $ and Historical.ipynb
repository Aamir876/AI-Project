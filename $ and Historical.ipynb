{
 "cells": [
  {
   "cell_type": "code",
   "execution_count": null,
   "metadata": {
    "collapsed": true
   },
   "outputs": [],
   "source": []
  },
  {
   "cell_type": "code",
   "execution_count": 2,
   "metadata": {
    "collapsed": false
   },
   "outputs": [
    {
     "name": "stdout",
     "output_type": "stream",
     "text": [
      "enter the company ticker symbol: GOOG\n",
      "trading date:  2015-09-11 20:00:00 UTC+0000\n",
      "\n",
      "current price: $ 625.77\n",
      "opening price: $ 619.75\n",
      "\n",
      "day high: $ 625.78\n",
      "day low: $ 617.42\n",
      "\n",
      "print price change: $ +4.42\n",
      "\n",
      "200 days moving average: $ 567.65\n",
      "50 days moving average: $ 629.60\n",
      "\n",
      "Today's volume:  1373545\n",
      "Average volume:  2412690\n",
      "\n",
      "Price to earning (PE) ratio :  29.48\n",
      "Price earning to growth (PEG) ratio:  1.14\n",
      "\n",
      "book value 163.07\n"
     ]
    }
   ],
   "source": [
    "from yahoo_finance import Share\n",
    "import numpy as np\n",
    "import matplotlib.pyplot as plt\n",
    "#import sklearn\n",
    "\n",
    "def get_symbol():\n",
    "    company_ticker = raw_input(\"enter the company ticker symbol: \")\n",
    "    return company_ticker\n",
    "\n",
    "def get_data():\n",
    "    \n",
    "    #date and time of the trade\n",
    "    date = company.get_trade_datetime()\n",
    "\n",
    "    #opening price\n",
    "    opening_price = company.get_open()\n",
    "\n",
    "    #Price right now (Yahoo finance is delayed by 15 mins????)\n",
    "    current_price = company.get_price()\n",
    "\n",
    "    #Day's high and low prices \n",
    "    day_high = company.get_days_high()\n",
    "    day_low = company.get_days_low()\n",
    "    \n",
    "    #price changes from opening price\n",
    "    price_change = company.get_change()\n",
    "    \n",
    "    \n",
    "    #200 days moving average\n",
    "    th_moving_avg = company.get_200day_moving_avg()\n",
    "    #50 days moving average\n",
    "    fifty_moving_avg = company.get_50day_moving_avg()\n",
    "    \n",
    "    #volume\n",
    "    volume = company.get_volume()\n",
    "    #compare this days volume with average volume\n",
    "    average_daily_volume = company.get_avg_daily_volume()\n",
    "\n",
    "    #PE ratio\n",
    "    PE = company.get_price_earnings_ratio()\n",
    "\n",
    "    #PEG ratio ---> pe ratio divided by 1-reinvestment (growth)\n",
    "    PEG = company.get_price_earnings_growth_ratio()\n",
    "    \n",
    "    #book value\n",
    "    book_value = company.get_book_value()\n",
    "\n",
    "    print \"trading date: \", date\n",
    "    print \"\\ncurrent price: $\", current_price\n",
    "    print \"opening price: $\" , opening_price\n",
    "    print \"\\nday high: $\", day_high\n",
    "    print \"day low: $\", day_low\n",
    "    print \"\\nprint price change: $\", price_change\n",
    "    print \"\\n200 days moving average: $\", th_moving_avg\n",
    "    print \"50 days moving average: $\", fifty_moving_avg\n",
    "    print \"\\nToday's volume: \", volume\n",
    "    print \"Average volume: \", average_daily_volume\n",
    "    print \"\\nPrice to earning (PE) ratio : \", PE\n",
    "    print \"Price earning to growth (PEG) ratio: \", PEG\n",
    "    print \"\\nbook value\",  book_value\n",
    "    '''\n",
    "    if you refresh after market closes, you will get error\n",
    "    #Refresh to get a new price\n",
    "    # Note that after the market closes @ 4PM EST, the price will stay the same\n",
    "    company.refresh()\n",
    "\n",
    "    date = company.get_trade_datetime()\n",
    "    current_price = company.get_price()\n",
    "    price_change = company.get_change()\n",
    "\n",
    "    print \"\\n########## After refreshing ####################\"\n",
    "    print \"trading date: \", date\n",
    "    print \"current price: \", current_price\n",
    "    print \"opening price: $\" , opening_price\n",
    "    print \"print price change: $\", price_change\n",
    "    ''';\n",
    "    \n",
    "    \n",
    "ticker = get_symbol()\n",
    "company = Share(ticker)\n",
    "get_data()"
   ]
  },
  {
   "cell_type": "code",
   "execution_count": 3,
   "metadata": {
    "collapsed": false
   },
   "outputs": [
    {
     "name": "stdout",
     "output_type": "stream",
     "text": [
      "Enter begin day in 'yyyy-mm-dd' format: 2015-01-01\n",
      "Enter ending day in 'yyyy-mm-dd' format: 2015-09-01\n",
      "168 Days of historical data\n"
     ]
    }
   ],
   "source": [
    "begin = raw_input(\"Enter begin day in 'yyyy-mm-dd' format: \")\n",
    "end = raw_input(\"Enter ending day in 'yyyy-mm-dd' format: \")\n",
    "\n",
    "historical = company.get_historical(begin, end)\n",
    "print len(historical), \"Days of historical data\"\n"
   ]
  },
  {
   "cell_type": "code",
   "execution_count": 63,
   "metadata": {
    "collapsed": false
   },
   "outputs": [],
   "source": [
    "#to get all opening prices together\n",
    "\n",
    "opening = [] #is a dynamic array (list) for python\n",
    "\n",
    "for i in range(len(historical)):\n",
    "    x = historical[i]['Open']\n",
    "    opening.append(x)\n",
    "\n",
    "#same for closing\n",
    "closing = [] #is a dynamic array (list) for python\n",
    "\n",
    "for i in range(len(historical)):\n",
    "    x = historical[i]['Close']\n",
    "    closing.append(x)\n",
    "\n",
    "x_axis = np.arange(0+1, len(historical)+1)"
   ]
  },
  {
   "cell_type": "code",
   "execution_count": 64,
   "metadata": {
    "collapsed": false
   },
   "outputs": [
    {
     "data": {
      "image/png": "[encoded data removed]",
      "text/plain": [
       "<matplotlib.figure.Figure at 0x7f1e1802d150>"
      ]
     },
     "metadata": {},
     "output_type": "display_data"
    }
   ],
   "source": [
    "%matplotlib inline\n",
    "plt.plot(x_axis,opening, 'b', x_axis, closing, 'r')\n",
    "plt.xlabel('Day')\n",
    "plt.ylabel('Price ($)')\n",
    "#plt.figure(figsize=(20,10))\n",
    "plt.show();"
   ]
  },
  {
   "cell_type": "code",
   "execution_count": null,
   "metadata": {
    "collapsed": false
   },
   "outputs": [],
   "source": []
  },
  {
   "cell_type": "code",
   "execution_count": 65,
   "metadata": {
    "collapsed": false
   },
   "outputs": [
    {
     "data": {
      "image/png": "[encoded data removed]",
      "text/plain": [
       "<matplotlib.figure.Figure at 0x7f1dec67c610>"
      ]
     },
     "metadata": {},
     "output_type": "display_data"
    }
   ],
   "source": [
    "historical_volume = [] #is a dynamic array (list) for python\n",
    "average_volume = []\n",
    "\n",
    "for i in range(len(historical)):\n",
    "    x = historical[i]['Volume']\n",
    "    historical_volume.append(x)\n",
    "    average_volume.append(company.get_avg_daily_volume())\n",
    "    \n",
    "    \n",
    "plt.plot(x_axis,historical_volume, 'g', x_axis, average_volume, 'b')\n",
    "plt.xlabel('Day')\n",
    "plt.ylabel('Volume')\n",
    "plt.show()"
   ]
  },
  {
   "cell_type": "code",
   "execution_count": 66,
   "metadata": {
    "collapsed": false
   },
   "outputs": [],
   "source": [
    "#support vector machine uses numpy.ndarray\n",
    "\n",
    "data1 = np.asarray(opening)\n",
    "data2 = np.asarray(closing)\n",
    "data3 = np.asarray(historical_volume)\n",
    "\n",
    "\n"
   ]
  },
  {
   "cell_type": "code",
   "execution_count": 69,
   "metadata": {
    "collapsed": false
   },
   "outputs": [],
   "source": [
    "data = []\n",
    "data.append(opening)\n",
    "#add day's high\n",
    "\n",
    "#days low\n",
    "data.append(historical_volume)\n",
    "\n",
    "data = opening\n",
    "target = []\n",
    "target.append(closing)\n",
    "target = closing"
   ]
  },
  {
   "cell_type": "code",
   "execution_count": 70,
   "metadata": {
    "collapsed": false
   },
   "outputs": [
    {
     "name": "stdout",
     "output_type": "stream",
     "text": [
      "168\n",
      "168\n"
     ]
    }
   ],
   "source": [
    "print len(data)\n",
    "print len(target)\n"
   ]
  },
  {
   "cell_type": "code",
   "execution_count": null,
   "metadata": {
    "collapsed": false
   },
   "outputs": [],
   "source": []
  },
  {
   "cell_type": "code",
   "execution_count": 71,
   "metadata": {
    "collapsed": false
   },
   "outputs": [],
   "source": [
    "\n",
    "\n",
    "#target_pre = np.asarray(closing)\n",
    "#target = np.vstack(target_pre)"
   ]
  },
  {
   "cell_type": "code",
   "execution_count": 58,
   "metadata": {
    "collapsed": false
   },
   "outputs": [
    {
     "name": "stdout",
     "output_type": "stream",
     "text": [
      "168\n",
      "168\n"
     ]
    }
   ],
   "source": [
    "print len(opening)\n",
    "print len(closing)"
   ]
  },
  {
   "cell_type": "code",
   "execution_count": 72,
   "metadata": {
    "collapsed": false
   },
   "outputs": [],
   "source": [
    "from sklearn import svm"
   ]
  },
  {
   "cell_type": "code",
   "execution_count": 73,
   "metadata": {
    "collapsed": false
   },
   "outputs": [
    {
     "ename": "ValueError",
     "evalue": "X and y have incompatible shapes.\nX has 1 samples, but y has 168.",
     "output_type": "error",
     "traceback": [
      "\u001b[1;31m---------------------------------------------------------------------------\u001b[0m",
      "\u001b[1;31mValueError\u001b[0m                                Traceback (most recent call last)",
      "\u001b[1;32m<ipython-input-73-5c84a062437d>\u001b[0m in \u001b[0;36m<module>\u001b[1;34m()\u001b[0m\n\u001b[0;32m      1\u001b[0m \u001b[0mclf\u001b[0m \u001b[1;33m=\u001b[0m \u001b[0msvm\u001b[0m\u001b[1;33m.\u001b[0m\u001b[0mSVC\u001b[0m\u001b[1;33m(\u001b[0m\u001b[1;33m)\u001b[0m\u001b[1;33m\u001b[0m\u001b[0m\n\u001b[0;32m      2\u001b[0m \u001b[1;33m\u001b[0m\u001b[0m\n\u001b[1;32m----> 3\u001b[1;33m \u001b[0mclf\u001b[0m\u001b[1;33m.\u001b[0m\u001b[0mfit\u001b[0m\u001b[1;33m(\u001b[0m\u001b[0mhistorical_volume\u001b[0m\u001b[1;33m,\u001b[0m \u001b[0mclosing\u001b[0m\u001b[1;33m)\u001b[0m\u001b[1;33m\u001b[0m\u001b[0m\n\u001b[0m",
      "\u001b[1;32m/home/prakash/anaconda/lib/python2.7/site-packages/sklearn/svm/base.pyc\u001b[0m in \u001b[0;36mfit\u001b[1;34m(self, X, y, sample_weight)\u001b[0m\n\u001b[0;32m    149\u001b[0m             raise ValueError(\"X and y have incompatible shapes.\\n\" +\n\u001b[0;32m    150\u001b[0m                              \u001b[1;34m\"X has %s samples, but y has %s.\"\u001b[0m \u001b[1;33m%\u001b[0m\u001b[1;33m\u001b[0m\u001b[0m\n\u001b[1;32m--> 151\u001b[1;33m                              (X.shape[0], y.shape[0]))\n\u001b[0m\u001b[0;32m    152\u001b[0m \u001b[1;33m\u001b[0m\u001b[0m\n\u001b[0;32m    153\u001b[0m         \u001b[1;32mif\u001b[0m \u001b[0mself\u001b[0m\u001b[1;33m.\u001b[0m\u001b[0mkernel\u001b[0m \u001b[1;33m==\u001b[0m \u001b[1;34m\"precomputed\"\u001b[0m \u001b[1;32mand\u001b[0m \u001b[0mX\u001b[0m\u001b[1;33m.\u001b[0m\u001b[0mshape\u001b[0m\u001b[1;33m[\u001b[0m\u001b[1;36m0\u001b[0m\u001b[1;33m]\u001b[0m \u001b[1;33m!=\u001b[0m \u001b[0mX\u001b[0m\u001b[1;33m.\u001b[0m\u001b[0mshape\u001b[0m\u001b[1;33m[\u001b[0m\u001b[1;36m1\u001b[0m\u001b[1;33m]\u001b[0m\u001b[1;33m:\u001b[0m\u001b[1;33m\u001b[0m\u001b[0m\n",
      "\u001b[1;31mValueError\u001b[0m: X and y have incompatible shapes.\nX has 1 samples, but y has 168."
     ]
    }
   ],
   "source": [
    "clf = svm.SVC()\n",
    "\n",
    "clf.fit(historical_volume, closing)"
   ]
  },
  {
   "cell_type": "code",
   "execution_count": null,
   "metadata": {
    "collapsed": true
   },
   "outputs": [],
   "source": []
  }
 ],
 "metadata": {
  "kernelspec": {
   "display_name": "Python 2",
   "language": "python",
   "name": "python2"
  },
  "language_info": {
   "codemirror_mode": {
    "name": "ipython",
    "version": 2
   },
   "file_extension": ".py",
   "mimetype": "text/x-python",
   "name": "python",
   "nbconvert_exporter": "python",
   "pygments_lexer": "ipython2",
   "version": "2.7.10"
  }
 },
 "nbformat": 4,
 "nbformat_minor": 0
}
